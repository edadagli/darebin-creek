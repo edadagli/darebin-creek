{
 "cells": [
  {
   "cell_type": "code",
   "execution_count": 1,
   "id": "bab46c95",
   "metadata": {},
   "outputs": [],
   "source": [
    "import pandas as pd\n",
    "from matplotlib import pyplot as plt\n",
    "%config InlineBackend.figure_formats = ['svg']\n",
    "%matplotlib inline"
   ]
  },
  {
   "cell_type": "code",
   "execution_count": 4,
   "id": "98f64add",
   "metadata": {},
   "outputs": [],
   "source": [
    "frog_df = pd.read_csv('C:/Users/edada/Desktop/Export/Threatened Non-sensitive Species.csv')"
   ]
  },
  {
   "cell_type": "code",
   "execution_count": 5,
   "id": "91904dbb",
   "metadata": {},
   "outputs": [
    {
     "data": {
      "text/html": [
       "<div>\n",
       "<style scoped>\n",
       "    .dataframe tbody tr th:only-of-type {\n",
       "        vertical-align: middle;\n",
       "    }\n",
       "\n",
       "    .dataframe tbody tr th {\n",
       "        vertical-align: top;\n",
       "    }\n",
       "\n",
       "    .dataframe thead th {\n",
       "        text-align: right;\n",
       "    }\n",
       "</style>\n",
       "<table border=\"1\" class=\"dataframe\">\n",
       "  <thead>\n",
       "    <tr style=\"text-align: right;\">\n",
       "      <th></th>\n",
       "      <th>geometry</th>\n",
       "      <th>Common Name</th>\n",
       "      <th>Scientific Name</th>\n",
       "      <th>VBA Taxon ID</th>\n",
       "      <th>Survey start date</th>\n",
       "      <th>Sampling method used</th>\n",
       "      <th>Type of observation</th>\n",
       "      <th>Total Count</th>\n",
       "      <th>Count Accuracy</th>\n",
       "      <th>Extra information</th>\n",
       "      <th>...</th>\n",
       "      <th>Latitude (GDA94)</th>\n",
       "      <th>Site accuracy (km radius around point)</th>\n",
       "      <th>Collector(s)</th>\n",
       "      <th>EPBC Act</th>\n",
       "      <th>FFG Act</th>\n",
       "      <th>International Treaty</th>\n",
       "      <th>Taxon Type</th>\n",
       "      <th>Taxa origin</th>\n",
       "      <th>Reliability of record</th>\n",
       "      <th>Publication date</th>\n",
       "    </tr>\n",
       "  </thead>\n",
       "  <tbody>\n",
       "    <tr>\n",
       "      <th>0</th>\n",
       "      <td>X: 2497745.10142389, Y: 2424266.1283649, Z: NaN</td>\n",
       "      <td>Growling Grass Frog</td>\n",
       "      <td>Litoria raniformis</td>\n",
       "      <td>13207</td>\n",
       "      <td>2020-06-12T00:00:00.0000000</td>\n",
       "      <td>General observations</td>\n",
       "      <td>Captured and released</td>\n",
       "      <td>1.0</td>\n",
       "      <td>Accurate</td>\n",
       "      <td>NaN</td>\n",
       "      <td>...</td>\n",
       "      <td>-37.68247</td>\n",
       "      <td>0</td>\n",
       "      <td>Tanya White</td>\n",
       "      <td>Vulnerable</td>\n",
       "      <td>Vulnerable</td>\n",
       "      <td>NaN</td>\n",
       "      <td>Amphibians</td>\n",
       "      <td>NaN</td>\n",
       "      <td>Acceptable</td>\n",
       "      <td>18/10/2024</td>\n",
       "    </tr>\n",
       "    <tr>\n",
       "      <th>1</th>\n",
       "      <td>X: 2500762.81052242, Y: 2427571.07290213, Z: NaN</td>\n",
       "      <td>Growling Grass Frog</td>\n",
       "      <td>Litoria raniformis</td>\n",
       "      <td>13207</td>\n",
       "      <td>2019-01-19T00:00:00.0000000</td>\n",
       "      <td>Frog census</td>\n",
       "      <td>Seen</td>\n",
       "      <td>8.0</td>\n",
       "      <td>Accurate</td>\n",
       "      <td>NaN</td>\n",
       "      <td>...</td>\n",
       "      <td>-37.65269</td>\n",
       "      <td>0</td>\n",
       "      <td>Matthew Le Feuvre</td>\n",
       "      <td>Vulnerable</td>\n",
       "      <td>Vulnerable</td>\n",
       "      <td>NaN</td>\n",
       "      <td>Amphibians</td>\n",
       "      <td>NaN</td>\n",
       "      <td>Acceptable</td>\n",
       "      <td>18/10/2024</td>\n",
       "    </tr>\n",
       "    <tr>\n",
       "      <th>2</th>\n",
       "      <td>X: 2500760.34186517, Y: 2427593.04720969, Z: NaN</td>\n",
       "      <td>Growling Grass Frog</td>\n",
       "      <td>Litoria raniformis</td>\n",
       "      <td>13207</td>\n",
       "      <td>2019-01-19T00:00:00.0000000</td>\n",
       "      <td>Frog census</td>\n",
       "      <td>Seen</td>\n",
       "      <td>2.0</td>\n",
       "      <td>Accurate</td>\n",
       "      <td>NaN</td>\n",
       "      <td>...</td>\n",
       "      <td>-37.65250</td>\n",
       "      <td>0</td>\n",
       "      <td>Matthew Le Feuvre</td>\n",
       "      <td>Vulnerable</td>\n",
       "      <td>Vulnerable</td>\n",
       "      <td>NaN</td>\n",
       "      <td>Amphibians</td>\n",
       "      <td>NaN</td>\n",
       "      <td>Acceptable</td>\n",
       "      <td>18/10/2024</td>\n",
       "    </tr>\n",
       "    <tr>\n",
       "      <th>3</th>\n",
       "      <td>X: 2500765.63739824, Y: 2427608.02894662, Z: NaN</td>\n",
       "      <td>Growling Grass Frog</td>\n",
       "      <td>Litoria raniformis</td>\n",
       "      <td>13207</td>\n",
       "      <td>2019-01-19T00:00:00.0000000</td>\n",
       "      <td>Frog census</td>\n",
       "      <td>Seen</td>\n",
       "      <td>7.0</td>\n",
       "      <td>Accurate</td>\n",
       "      <td>NaN</td>\n",
       "      <td>...</td>\n",
       "      <td>-37.65236</td>\n",
       "      <td>0</td>\n",
       "      <td>Matthew Le Feuvre</td>\n",
       "      <td>Vulnerable</td>\n",
       "      <td>Vulnerable</td>\n",
       "      <td>NaN</td>\n",
       "      <td>Amphibians</td>\n",
       "      <td>NaN</td>\n",
       "      <td>Acceptable</td>\n",
       "      <td>18/10/2024</td>\n",
       "    </tr>\n",
       "    <tr>\n",
       "      <th>4</th>\n",
       "      <td>X: 2500792.46511525, Y: 2427645.42689848, Z: NaN</td>\n",
       "      <td>Growling Grass Frog</td>\n",
       "      <td>Litoria raniformis</td>\n",
       "      <td>13207</td>\n",
       "      <td>2019-01-19T00:00:00.0000000</td>\n",
       "      <td>Frog census</td>\n",
       "      <td>Seen</td>\n",
       "      <td>1.0</td>\n",
       "      <td>Accurate</td>\n",
       "      <td>NaN</td>\n",
       "      <td>...</td>\n",
       "      <td>-37.65202</td>\n",
       "      <td>0</td>\n",
       "      <td>Matthew Le Feuvre</td>\n",
       "      <td>Vulnerable</td>\n",
       "      <td>Vulnerable</td>\n",
       "      <td>NaN</td>\n",
       "      <td>Amphibians</td>\n",
       "      <td>NaN</td>\n",
       "      <td>Acceptable</td>\n",
       "      <td>18/10/2024</td>\n",
       "    </tr>\n",
       "    <tr>\n",
       "      <th>...</th>\n",
       "      <td>...</td>\n",
       "      <td>...</td>\n",
       "      <td>...</td>\n",
       "      <td>...</td>\n",
       "      <td>...</td>\n",
       "      <td>...</td>\n",
       "      <td>...</td>\n",
       "      <td>...</td>\n",
       "      <td>...</td>\n",
       "      <td>...</td>\n",
       "      <td>...</td>\n",
       "      <td>...</td>\n",
       "      <td>...</td>\n",
       "      <td>...</td>\n",
       "      <td>...</td>\n",
       "      <td>...</td>\n",
       "      <td>...</td>\n",
       "      <td>...</td>\n",
       "      <td>...</td>\n",
       "      <td>...</td>\n",
       "      <td>...</td>\n",
       "    </tr>\n",
       "    <tr>\n",
       "      <th>102</th>\n",
       "      <td>X: 2500788.82968968, Y: 2427452.65457574, Z: NaN</td>\n",
       "      <td>Growling Grass Frog</td>\n",
       "      <td>Litoria raniformis</td>\n",
       "      <td>13207</td>\n",
       "      <td>2001-12-05T00:00:00.0000000</td>\n",
       "      <td>Incidental</td>\n",
       "      <td>Observation</td>\n",
       "      <td>6.0</td>\n",
       "      <td>Accurate</td>\n",
       "      <td>NaN</td>\n",
       "      <td>...</td>\n",
       "      <td>-37.65376</td>\n",
       "      <td>1</td>\n",
       "      <td>Aaron Organ</td>\n",
       "      <td>Vulnerable</td>\n",
       "      <td>Vulnerable</td>\n",
       "      <td>NaN</td>\n",
       "      <td>Amphibians</td>\n",
       "      <td>NaN</td>\n",
       "      <td>Acceptable</td>\n",
       "      <td>18/10/2024</td>\n",
       "    </tr>\n",
       "    <tr>\n",
       "      <th>103</th>\n",
       "      <td>X: 2500224.37978124, Y: 2427089.37373699, Z: NaN</td>\n",
       "      <td>Growling Grass Frog</td>\n",
       "      <td>Litoria raniformis</td>\n",
       "      <td>13207</td>\n",
       "      <td>2014-03-12T00:00:00.0000000</td>\n",
       "      <td>Spotlighting</td>\n",
       "      <td>Heard</td>\n",
       "      <td>3.0</td>\n",
       "      <td>Accurate</td>\n",
       "      <td>NaN</td>\n",
       "      <td>...</td>\n",
       "      <td>-37.65703</td>\n",
       "      <td>0</td>\n",
       "      <td>Kailash Willis</td>\n",
       "      <td>Vulnerable</td>\n",
       "      <td>Vulnerable</td>\n",
       "      <td>NaN</td>\n",
       "      <td>Amphibians</td>\n",
       "      <td>NaN</td>\n",
       "      <td>Acceptable</td>\n",
       "      <td>18/10/2024</td>\n",
       "    </tr>\n",
       "    <tr>\n",
       "      <th>104</th>\n",
       "      <td>X: 2500082.94167338, Y: 2427531.48696282, Z: NaN</td>\n",
       "      <td>Growling Grass Frog</td>\n",
       "      <td>Litoria raniformis</td>\n",
       "      <td>13207</td>\n",
       "      <td>2005-01-24T00:00:00.0000000</td>\n",
       "      <td>Frog census</td>\n",
       "      <td>Seen</td>\n",
       "      <td>19.0</td>\n",
       "      <td>Accurate</td>\n",
       "      <td>NaN</td>\n",
       "      <td>...</td>\n",
       "      <td>-37.65305</td>\n",
       "      <td>0</td>\n",
       "      <td>Ecology Australia</td>\n",
       "      <td>Vulnerable</td>\n",
       "      <td>Vulnerable</td>\n",
       "      <td>NaN</td>\n",
       "      <td>Amphibians</td>\n",
       "      <td>NaN</td>\n",
       "      <td>Acceptable</td>\n",
       "      <td>18/10/2024</td>\n",
       "    </tr>\n",
       "    <tr>\n",
       "      <th>105</th>\n",
       "      <td>X: 2499426.55762746, Y: 2426119.79583677, Z: NaN</td>\n",
       "      <td>Growling Grass Frog</td>\n",
       "      <td>Litoria raniformis</td>\n",
       "      <td>13207</td>\n",
       "      <td>2005-03-14T00:00:00.0000000</td>\n",
       "      <td>Frog census</td>\n",
       "      <td>Seen</td>\n",
       "      <td>23.0</td>\n",
       "      <td>Accurate</td>\n",
       "      <td>NaN</td>\n",
       "      <td>...</td>\n",
       "      <td>-37.66577</td>\n",
       "      <td>0</td>\n",
       "      <td>Ecology Australia</td>\n",
       "      <td>Vulnerable</td>\n",
       "      <td>Vulnerable</td>\n",
       "      <td>NaN</td>\n",
       "      <td>Amphibians</td>\n",
       "      <td>NaN</td>\n",
       "      <td>Acceptable</td>\n",
       "      <td>18/10/2024</td>\n",
       "    </tr>\n",
       "    <tr>\n",
       "      <th>106</th>\n",
       "      <td>X: 2498113.46387485, Y: 2424139.58944399, Z: NaN</td>\n",
       "      <td>Growling Grass Frog</td>\n",
       "      <td>Litoria raniformis</td>\n",
       "      <td>13207</td>\n",
       "      <td>2020-10-28T00:00:00.0000000</td>\n",
       "      <td>Targeted search</td>\n",
       "      <td>Observation</td>\n",
       "      <td>NaN</td>\n",
       "      <td>Present not counted</td>\n",
       "      <td>NaN</td>\n",
       "      <td>...</td>\n",
       "      <td>-37.68361</td>\n",
       "      <td>0</td>\n",
       "      <td>Guillermo Mayor</td>\n",
       "      <td>Vulnerable</td>\n",
       "      <td>Vulnerable</td>\n",
       "      <td>NaN</td>\n",
       "      <td>Amphibians</td>\n",
       "      <td>NaN</td>\n",
       "      <td>Acceptable</td>\n",
       "      <td>18/10/2024</td>\n",
       "    </tr>\n",
       "  </tbody>\n",
       "</table>\n",
       "<p>107 rows × 22 columns</p>\n",
       "</div>"
      ],
      "text/plain": [
       "                                             geometry          Common Name  \\\n",
       "0     X: 2497745.10142389, Y: 2424266.1283649, Z: NaN  Growling Grass Frog   \n",
       "1    X: 2500762.81052242, Y: 2427571.07290213, Z: NaN  Growling Grass Frog   \n",
       "2    X: 2500760.34186517, Y: 2427593.04720969, Z: NaN  Growling Grass Frog   \n",
       "3    X: 2500765.63739824, Y: 2427608.02894662, Z: NaN  Growling Grass Frog   \n",
       "4    X: 2500792.46511525, Y: 2427645.42689848, Z: NaN  Growling Grass Frog   \n",
       "..                                                ...                  ...   \n",
       "102  X: 2500788.82968968, Y: 2427452.65457574, Z: NaN  Growling Grass Frog   \n",
       "103  X: 2500224.37978124, Y: 2427089.37373699, Z: NaN  Growling Grass Frog   \n",
       "104  X: 2500082.94167338, Y: 2427531.48696282, Z: NaN  Growling Grass Frog   \n",
       "105  X: 2499426.55762746, Y: 2426119.79583677, Z: NaN  Growling Grass Frog   \n",
       "106  X: 2498113.46387485, Y: 2424139.58944399, Z: NaN  Growling Grass Frog   \n",
       "\n",
       "        Scientific Name  VBA Taxon ID            Survey start date  \\\n",
       "0    Litoria raniformis         13207  2020-06-12T00:00:00.0000000   \n",
       "1    Litoria raniformis         13207  2019-01-19T00:00:00.0000000   \n",
       "2    Litoria raniformis         13207  2019-01-19T00:00:00.0000000   \n",
       "3    Litoria raniformis         13207  2019-01-19T00:00:00.0000000   \n",
       "4    Litoria raniformis         13207  2019-01-19T00:00:00.0000000   \n",
       "..                  ...           ...                          ...   \n",
       "102  Litoria raniformis         13207  2001-12-05T00:00:00.0000000   \n",
       "103  Litoria raniformis         13207  2014-03-12T00:00:00.0000000   \n",
       "104  Litoria raniformis         13207  2005-01-24T00:00:00.0000000   \n",
       "105  Litoria raniformis         13207  2005-03-14T00:00:00.0000000   \n",
       "106  Litoria raniformis         13207  2020-10-28T00:00:00.0000000   \n",
       "\n",
       "     Sampling method used    Type of observation  Total Count  \\\n",
       "0    General observations  Captured and released          1.0   \n",
       "1             Frog census                   Seen          8.0   \n",
       "2             Frog census                   Seen          2.0   \n",
       "3             Frog census                   Seen          7.0   \n",
       "4             Frog census                   Seen          1.0   \n",
       "..                    ...                    ...          ...   \n",
       "102            Incidental            Observation          6.0   \n",
       "103          Spotlighting                  Heard          3.0   \n",
       "104           Frog census                   Seen         19.0   \n",
       "105           Frog census                   Seen         23.0   \n",
       "106       Targeted search            Observation          NaN   \n",
       "\n",
       "          Count Accuracy  Extra information  ... Latitude (GDA94)  \\\n",
       "0               Accurate                NaN  ...        -37.68247   \n",
       "1               Accurate                NaN  ...        -37.65269   \n",
       "2               Accurate                NaN  ...        -37.65250   \n",
       "3               Accurate                NaN  ...        -37.65236   \n",
       "4               Accurate                NaN  ...        -37.65202   \n",
       "..                   ...                ...  ...              ...   \n",
       "102             Accurate                NaN  ...        -37.65376   \n",
       "103             Accurate                NaN  ...        -37.65703   \n",
       "104             Accurate                NaN  ...        -37.65305   \n",
       "105             Accurate                NaN  ...        -37.66577   \n",
       "106  Present not counted                NaN  ...        -37.68361   \n",
       "\n",
       "     Site accuracy (km radius around point)       Collector(s)    EPBC Act  \\\n",
       "0                                         0        Tanya White  Vulnerable   \n",
       "1                                         0  Matthew Le Feuvre  Vulnerable   \n",
       "2                                         0  Matthew Le Feuvre  Vulnerable   \n",
       "3                                         0  Matthew Le Feuvre  Vulnerable   \n",
       "4                                         0  Matthew Le Feuvre  Vulnerable   \n",
       "..                                      ...                ...         ...   \n",
       "102                                       1        Aaron Organ  Vulnerable   \n",
       "103                                       0     Kailash Willis  Vulnerable   \n",
       "104                                       0  Ecology Australia  Vulnerable   \n",
       "105                                       0  Ecology Australia  Vulnerable   \n",
       "106                                       0    Guillermo Mayor  Vulnerable   \n",
       "\n",
       "        FFG Act International Treaty  Taxon Type  Taxa origin  \\\n",
       "0    Vulnerable                  NaN  Amphibians          NaN   \n",
       "1    Vulnerable                  NaN  Amphibians          NaN   \n",
       "2    Vulnerable                  NaN  Amphibians          NaN   \n",
       "3    Vulnerable                  NaN  Amphibians          NaN   \n",
       "4    Vulnerable                  NaN  Amphibians          NaN   \n",
       "..          ...                  ...         ...          ...   \n",
       "102  Vulnerable                  NaN  Amphibians          NaN   \n",
       "103  Vulnerable                  NaN  Amphibians          NaN   \n",
       "104  Vulnerable                  NaN  Amphibians          NaN   \n",
       "105  Vulnerable                  NaN  Amphibians          NaN   \n",
       "106  Vulnerable                  NaN  Amphibians          NaN   \n",
       "\n",
       "    Reliability of record  Publication date  \n",
       "0              Acceptable        18/10/2024  \n",
       "1              Acceptable        18/10/2024  \n",
       "2              Acceptable        18/10/2024  \n",
       "3              Acceptable        18/10/2024  \n",
       "4              Acceptable        18/10/2024  \n",
       "..                    ...               ...  \n",
       "102            Acceptable        18/10/2024  \n",
       "103            Acceptable        18/10/2024  \n",
       "104            Acceptable        18/10/2024  \n",
       "105            Acceptable        18/10/2024  \n",
       "106            Acceptable        18/10/2024  \n",
       "\n",
       "[107 rows x 22 columns]"
      ]
     },
     "execution_count": 5,
     "metadata": {},
     "output_type": "execute_result"
    }
   ],
   "source": [
    "frog_df"
   ]
  },
  {
   "cell_type": "code",
   "execution_count": 58,
   "id": "8ee277cf",
   "metadata": {},
   "outputs": [
    {
     "data": {
      "application/vnd.plotly.v1+json": {
       "config": {
        "plotlyServerURL": "https://plot.ly"
       },
       "data": [
        {
         "customdata": [
          [
           "Growling Grass Frog",
           1
          ],
          [
           "Growling Grass Frog",
           8
          ],
          [
           "Growling Grass Frog",
           2
          ],
          [
           "Growling Grass Frog",
           7
          ],
          [
           "Growling Grass Frog",
           1
          ],
          [
           "Growling Grass Frog",
           1
          ],
          [
           "Growling Grass Frog",
           1
          ],
          [
           "Growling Grass Frog",
           1
          ],
          [
           "Growling Grass Frog",
           2
          ],
          [
           "Growling Grass Frog",
           2
          ],
          [
           "Growling Grass Frog",
           2
          ],
          [
           "Growling Grass Frog",
           1
          ],
          [
           "Growling Grass Frog",
           1
          ],
          [
           "Growling Grass Frog",
           3
          ],
          [
           "Growling Grass Frog",
           7
          ],
          [
           "Growling Grass Frog",
           1
          ],
          [
           "Growling Grass Frog",
           3
          ],
          [
           "Growling Grass Frog",
           2
          ],
          [
           "Growling Grass Frog",
           1
          ],
          [
           "Growling Grass Frog",
           3
          ],
          [
           "Growling Grass Frog",
           6
          ],
          [
           "Growling Grass Frog",
           5
          ],
          [
           "Growling Grass Frog",
           3
          ],
          [
           "Growling Grass Frog",
           4
          ],
          [
           "Growling Grass Frog",
           3
          ],
          [
           "Growling Grass Frog",
           1
          ],
          [
           "Growling Grass Frog",
           2
          ],
          [
           "Growling Grass Frog",
           1
          ],
          [
           "Growling Grass Frog",
           4
          ],
          [
           "Growling Grass Frog",
           1
          ],
          [
           "Growling Grass Frog",
           2
          ],
          [
           "Growling Grass Frog",
           1
          ],
          [
           "Growling Grass Frog",
           1
          ],
          [
           "Growling Grass Frog",
           1
          ],
          [
           "Growling Grass Frog",
           2
          ],
          [
           "Growling Grass Frog",
           2
          ],
          [
           "Growling Grass Frog",
           1
          ],
          [
           "Growling Grass Frog",
           2
          ],
          [
           "Growling Grass Frog",
           3
          ],
          [
           "Growling Grass Frog",
           2
          ],
          [
           "Growling Grass Frog",
           1
          ],
          [
           "Growling Grass Frog",
           1
          ],
          [
           "Growling Grass Frog",
           1
          ],
          [
           "Growling Grass Frog",
           1
          ],
          [
           "Growling Grass Frog",
           1
          ],
          [
           "Growling Grass Frog",
           2
          ],
          [
           "Growling Grass Frog",
           3
          ],
          [
           "Growling Grass Frog",
           2
          ],
          [
           "Growling Grass Frog",
           3
          ],
          [
           "Growling Grass Frog",
           1
          ],
          [
           "Growling Grass Frog",
           3
          ],
          [
           "Growling Grass Frog",
           2
          ],
          [
           "Growling Grass Frog",
           4
          ],
          [
           "Growling Grass Frog",
           3
          ],
          [
           "Growling Grass Frog",
           3
          ],
          [
           "Growling Grass Frog",
           1
          ],
          [
           "Growling Grass Frog",
           1
          ],
          [
           "Growling Grass Frog",
           2
          ],
          [
           "Growling Grass Frog",
           2
          ],
          [
           "Growling Grass Frog",
           6
          ],
          [
           "Growling Grass Frog",
           2
          ],
          [
           "Growling Grass Frog",
           1
          ],
          [
           "Growling Grass Frog",
           1
          ],
          [
           "Growling Grass Frog",
           1
          ],
          [
           "Growling Grass Frog",
           1
          ],
          [
           "Growling Grass Frog",
           4
          ],
          [
           "Growling Grass Frog",
           3
          ],
          [
           "Growling Grass Frog",
           1
          ],
          [
           "Growling Grass Frog",
           2
          ],
          [
           "Growling Grass Frog",
           3
          ],
          [
           "Growling Grass Frog",
           5
          ],
          [
           "Growling Grass Frog",
           1
          ],
          [
           "Growling Grass Frog",
           2
          ],
          [
           "Growling Grass Frog",
           3
          ],
          [
           "Growling Grass Frog",
           2
          ],
          [
           "Growling Grass Frog",
           1
          ],
          [
           "Growling Grass Frog",
           2
          ],
          [
           "Growling Grass Frog",
           8
          ],
          [
           "Growling Grass Frog",
           1
          ],
          [
           "Growling Grass Frog",
           1
          ],
          [
           "Growling Grass Frog",
           1
          ],
          [
           "Growling Grass Frog",
           100
          ],
          [
           "Growling Grass Frog",
           20
          ],
          [
           "Growling Grass Frog",
           7
          ],
          [
           "Growling Grass Frog",
           2
          ],
          [
           "Growling Grass Frog",
           15
          ],
          [
           "Growling Grass Frog",
           13
          ],
          [
           "Growling Grass Frog",
           1
          ],
          [
           "Growling Grass Frog",
           1
          ],
          [
           "Growling Grass Frog",
           1
          ],
          [
           "Growling Grass Frog",
           18
          ],
          [
           "Growling Grass Frog",
           2
          ],
          [
           "Growling Grass Frog",
           1
          ],
          [
           "Growling Grass Frog",
           7
          ],
          [
           "Growling Grass Frog",
           5
          ],
          [
           "Growling Grass Frog",
           100
          ],
          [
           "Growling Grass Frog",
           2
          ],
          [
           "Growling Grass Frog",
           1
          ],
          [
           "Growling Grass Frog",
           10
          ],
          [
           "Growling Grass Frog",
           null
          ],
          [
           "Growling Grass Frog",
           null
          ],
          [
           "Growling Grass Frog",
           30
          ],
          [
           "Growling Grass Frog",
           6
          ],
          [
           "Growling Grass Frog",
           3
          ],
          [
           "Growling Grass Frog",
           19
          ],
          [
           "Growling Grass Frog",
           23
          ],
          [
           "Growling Grass Frog",
           null
          ]
         ],
         "hovertemplate": "<b>%{hovertext}</b><br><br>Latitude (GDA94)=%{lat}<br>Longitude ( GDA94)=%{lon}<br>Common Name=%{customdata[0]}<br>Total Count=%{marker.color}<extra></extra>",
         "hovertext": [
          "Growling Grass Frog",
          "Growling Grass Frog",
          "Growling Grass Frog",
          "Growling Grass Frog",
          "Growling Grass Frog",
          "Growling Grass Frog",
          "Growling Grass Frog",
          "Growling Grass Frog",
          "Growling Grass Frog",
          "Growling Grass Frog",
          "Growling Grass Frog",
          "Growling Grass Frog",
          "Growling Grass Frog",
          "Growling Grass Frog",
          "Growling Grass Frog",
          "Growling Grass Frog",
          "Growling Grass Frog",
          "Growling Grass Frog",
          "Growling Grass Frog",
          "Growling Grass Frog",
          "Growling Grass Frog",
          "Growling Grass Frog",
          "Growling Grass Frog",
          "Growling Grass Frog",
          "Growling Grass Frog",
          "Growling Grass Frog",
          "Growling Grass Frog",
          "Growling Grass Frog",
          "Growling Grass Frog",
          "Growling Grass Frog",
          "Growling Grass Frog",
          "Growling Grass Frog",
          "Growling Grass Frog",
          "Growling Grass Frog",
          "Growling Grass Frog",
          "Growling Grass Frog",
          "Growling Grass Frog",
          "Growling Grass Frog",
          "Growling Grass Frog",
          "Growling Grass Frog",
          "Growling Grass Frog",
          "Growling Grass Frog",
          "Growling Grass Frog",
          "Growling Grass Frog",
          "Growling Grass Frog",
          "Growling Grass Frog",
          "Growling Grass Frog",
          "Growling Grass Frog",
          "Growling Grass Frog",
          "Growling Grass Frog",
          "Growling Grass Frog",
          "Growling Grass Frog",
          "Growling Grass Frog",
          "Growling Grass Frog",
          "Growling Grass Frog",
          "Growling Grass Frog",
          "Growling Grass Frog",
          "Growling Grass Frog",
          "Growling Grass Frog",
          "Growling Grass Frog",
          "Growling Grass Frog",
          "Growling Grass Frog",
          "Growling Grass Frog",
          "Growling Grass Frog",
          "Growling Grass Frog",
          "Growling Grass Frog",
          "Growling Grass Frog",
          "Growling Grass Frog",
          "Growling Grass Frog",
          "Growling Grass Frog",
          "Growling Grass Frog",
          "Growling Grass Frog",
          "Growling Grass Frog",
          "Growling Grass Frog",
          "Growling Grass Frog",
          "Growling Grass Frog",
          "Growling Grass Frog",
          "Growling Grass Frog",
          "Growling Grass Frog",
          "Growling Grass Frog",
          "Growling Grass Frog",
          "Growling Grass Frog",
          "Growling Grass Frog",
          "Growling Grass Frog",
          "Growling Grass Frog",
          "Growling Grass Frog",
          "Growling Grass Frog",
          "Growling Grass Frog",
          "Growling Grass Frog",
          "Growling Grass Frog",
          "Growling Grass Frog",
          "Growling Grass Frog",
          "Growling Grass Frog",
          "Growling Grass Frog",
          "Growling Grass Frog",
          "Growling Grass Frog",
          "Growling Grass Frog",
          "Growling Grass Frog",
          "Growling Grass Frog",
          "Growling Grass Frog",
          "Growling Grass Frog",
          "Growling Grass Frog",
          "Growling Grass Frog",
          "Growling Grass Frog",
          "Growling Grass Frog",
          "Growling Grass Frog",
          "Growling Grass Frog"
         ],
         "lat": [
          -37.68247,
          -37.65269,
          -37.6525,
          -37.65236,
          -37.65202,
          -37.65166,
          -37.651,
          -37.65131,
          -37.65205,
          -37.65242,
          -37.65248,
          -37.65253,
          -37.65251,
          -37.65219,
          -37.65379,
          -37.65389,
          -37.65439,
          -37.65435,
          -37.65422,
          -37.65346,
          -37.65346,
          -37.65358,
          -37.65369,
          -37.65365,
          -37.65292,
          -37.65296,
          -37.65311,
          -37.65335,
          -37.65351,
          -37.65307,
          -37.65256,
          -37.65252,
          -37.6525,
          -37.65248,
          -37.65245,
          -37.6524,
          -37.65236,
          -37.65224,
          -37.6524,
          -37.65262,
          -37.6519,
          -37.65197,
          -37.65232,
          -37.65237,
          -37.65241,
          -37.65272,
          -37.65275,
          -37.65272,
          -37.65253,
          -37.6524,
          -37.65207,
          -37.65204,
          -37.65202,
          -37.65158,
          -37.65122,
          -37.65237,
          -37.65242,
          -37.65249,
          -37.65253,
          -37.65353,
          -37.65341,
          -37.65327,
          -37.65302,
          -37.65295,
          -37.65295,
          -37.65295,
          -37.65313,
          -37.65325,
          -37.65333,
          -37.65344,
          -37.6535,
          -37.65362,
          -37.65369,
          -37.65189,
          -37.6848,
          -37.685,
          -37.69405,
          -37.6825,
          -37.65203,
          -37.69964,
          -37.70779,
          -37.6555,
          -37.6555,
          -37.68277,
          -37.71296,
          -37.65381,
          -37.68548,
          -37.6809,
          -37.6892,
          -37.68259,
          -37.68245,
          -37.68328,
          -37.68328,
          -37.685,
          -37.685,
          -37.65282,
          -37.6853,
          -37.685,
          -37.68199,
          -37.65324,
          -37.65324,
          -37.68621,
          -37.65376,
          -37.65703,
          -37.65305,
          -37.66577,
          -37.68361
         ],
         "legendgroup": "",
         "lon": [
          144.97444,
          145.00865,
          145.00862,
          145.00868,
          145.00898,
          145.00885,
          145.00811,
          145.00793,
          145.00735,
          145.00734,
          145.00744,
          145.00757,
          145.0078,
          145.00809,
          145.00793,
          145.00823,
          145.00849,
          145.00828,
          145.00802,
          145.0072,
          145.00734,
          145.00738,
          145.00738,
          145.0074,
          145.00717,
          145.00736,
          145.00756,
          145.00776,
          145.00772,
          145.00777,
          145.00763,
          145.0077,
          145.00778,
          145.00785,
          145.00793,
          145.00797,
          145.00803,
          145.00813,
          145.00826,
          145.00833,
          145.00747,
          145.00738,
          145.00735,
          145.00733,
          145.00736,
          145.00845,
          145.00857,
          145.00868,
          145.00867,
          145.00861,
          145.00903,
          145.00898,
          145.0089,
          145.00877,
          145.00871,
          145.00734,
          145.00735,
          145.00748,
          145.00756,
          145.00772,
          145.00772,
          145.00766,
          145.0075,
          145.00738,
          145.00736,
          145.00704,
          145.00702,
          145.007,
          145.007,
          145.00697,
          145.00735,
          145.00737,
          145.00741,
          145.00946,
          144.9605,
          144.9706,
          144.97737,
          144.97407,
          145.00999,
          144.98079,
          144.98016,
          145.00549,
          145.00549,
          144.9662,
          144.9926,
          144.98537,
          144.96009,
          144.97368,
          144.9614,
          144.97193,
          144.9712,
          144.97212,
          144.97212,
          144.97067,
          144.97067,
          145.00669,
          144.96056,
          144.97083,
          144.97303,
          144.97835,
          144.97835,
          144.97944,
          145.00894,
          145.00254,
          145.00094,
          144.9935,
          144.97861
         ],
         "marker": {
          "color": [
           1,
           8,
           2,
           7,
           1,
           1,
           1,
           1,
           2,
           2,
           2,
           1,
           1,
           3,
           7,
           1,
           3,
           2,
           1,
           3,
           6,
           5,
           3,
           4,
           3,
           1,
           2,
           1,
           4,
           1,
           2,
           1,
           1,
           1,
           2,
           2,
           1,
           2,
           3,
           2,
           1,
           1,
           1,
           1,
           1,
           2,
           3,
           2,
           3,
           1,
           3,
           2,
           4,
           3,
           3,
           1,
           1,
           2,
           2,
           6,
           2,
           1,
           1,
           1,
           1,
           4,
           3,
           1,
           2,
           3,
           5,
           1,
           2,
           3,
           2,
           1,
           2,
           8,
           1,
           1,
           1,
           100,
           20,
           7,
           2,
           15,
           13,
           1,
           1,
           1,
           18,
           2,
           1,
           7,
           5,
           100,
           2,
           1,
           10,
           null,
           null,
           30,
           6,
           3,
           19,
           23,
           null
          ],
          "coloraxis": "coloraxis"
         },
         "mode": "markers",
         "name": "",
         "showlegend": false,
         "subplot": "mapbox",
         "type": "scattermapbox"
        }
       ],
       "layout": {
        "coloraxis": {
         "colorbar": {
          "title": {
           "text": "Total Count"
          }
         },
         "colorscale": [
          [
           0,
           "green"
          ],
          [
           1,
           "blue"
          ]
         ]
        },
        "height": 800,
        "legend": {
         "tracegroupgap": 0
        },
        "mapbox": {
         "accesstoken": "geometry,Common Name,Scientific Name,VBA Taxon ID,Survey start date,Sampling method used,Type of observation,Total Count,Count Accuracy,Extra information,Location description,Longitude ( GDA94),Latitude (GDA94),Site accuracy (km radius around point),Collector(s),EPBC Act,FFG Act,International Treaty,Taxon Type,Taxa origin,Reliability of record,Publication date\n\"X: 2497745.10142389, Y: 2424266.1283649, Z: NaN\",Growling Grass Frog,Litoria raniformis,13207,2020-06-12T00:00:00.0000000,General observations,Captured and released,1,Accurate,,\"Project Trawalla Avenue, Thomastown\",144.97444,-37.68247,0,Tanya White,Vulnerable,Vulnerable,,Amphibians,,Acceptable,18/10/2024\n\"X: 2500762.81052242, Y: 2427571.07290213, Z: NaN\",Growling Grass Frog,Litoria raniformis,13207,2019-01-19T00:00:00.0000000,Frog census,Seen,8,Accurate,,Epping Pond 1 Cooper St Epping,145.00865,-37.65269,0,Matthew Le Feuvre,Vulnerable,Vulnerable,,Amphibians,,Acceptable,18/10/2024\n\"X: 2500760.34186517, Y: 2427593.04720969, Z: NaN\",Growling Grass Frog,Litoria raniformis,13207,2019-01-19T00:00:00.0000000,Frog census,Seen,2,Accurate,,Epping Pond 1 Cooper St Epping,145.00862,-37.6525,0,Matthew Le Feuvre,Vulnerable,Vulnerable,,Amphibians,,Acceptable,18/10/2024\n\"X: 2500765.63739824, Y: 2427608.02894662, Z: NaN\",Growling Grass Frog,Litoria raniformis,13207,2019-01-19T00:00:00.0000000,Frog census,Seen,7,Accurate,,Epping Pond 1 Cooper St Epping,145.00868,-37.65236,0,Matthew Le Feuvre,Vulnerable,Vulnerable,,Amphibians,,Acceptable,18/10/2024\n\"X: 2500792.46511525, Y: 2427645.42689848, Z: NaN\",Growling Grass Frog,Litoria raniformis,13207,2019-01-19T00:00:00.0000000,Frog census,Seen,1,Accurate,,Epping Pond 1 Cooper St Epping,145.00898,-37.65202,0,Matthew Le Feuvre,Vulnerable,Vulnerable,,Amphibians,,Acceptable,18/10/2024\n\"X: 2500781.26252919, Y: 2427685.71364591, Z: NaN\",Growling Grass Frog,Litoria raniformis,13207,2019-01-19T00:00:00.0000000,Frog census,Seen,1,Accurate,,Epping Pond 1 Cooper St Epping,145.00885,-37.65166,0,Matthew Le Feuvre,Vulnerable,Vulnerable,,Amphibians,,Acceptable,18/10/2024\n\"X: 2500715.8838245, Y: 2427759.07736383, Z: NaN\",Growling Grass Frog,Litoria raniformis,13207,2019-01-19T00:00:00.0000000,Frog census,Seen,1,Accurate,,Epping Pond 1 Cooper St Epping,145.00811,-37.651,0,Matthew Le Feuvre,Vulnerable,Vulnerable,,Amphibians,,Acceptable,18/10/2024\n\"X: 2500700.08618519, Y: 2427724.45288468, Z: NaN\",Growling Grass Frog,Litoria raniformis,13207,2019-01-19T00:00:00.0000000,Frog census,Seen,1,Accurate,,Epping Pond 1 Cooper St Epping,145.00793,-37.65131,0,Matthew Le Feuvre,Vulnerable,Vulnerable,,Amphibians,,Acceptable,18/10/2024\n\"X: 2500648.37207963, Y: 2427642.44267975, Z: NaN\",Growling Grass Frog,Litoria raniformis,13207,2019-01-19T00:00:00.0000000,Frog census,Seen,2,Accurate,,Epping Pond 1 Cooper St Epping,145.00735,-37.65205,0,Matthew Le Feuvre,Vulnerable,Vulnerable,,Amphibians,,Acceptable,18/10/2024\n\"X: 2500647.48654194, Y: 2427601.49094103, Z: NaN\",Growling Grass Frog,Litoria raniformis,13207,2019-01-19T00:00:00.0000000,Frog census,Seen,2,Accurate,,Epping Pond 1 Cooper St Epping,145.00734,-37.65242,0,Matthew Le Feuvre,Vulnerable,Vulnerable,,Amphibians,,Acceptable,18/10/2024\n\"X: 2500656.30983502, Y: 2427594.27654232, Z: NaN\",Growling Grass Frog,Litoria raniformis,13207,2019-01-19T00:00:00.0000000,Frog census,Seen,2,Accurate,,Epping Pond 1 Cooper St Epping,145.00744,-37.65248,0,Matthew Le Feuvre,Vulnerable,Vulnerable,,Amphibians,,Acceptable,18/10/2024\n\"X: 2500668.2215855, Y: 2427589.059533, Z: NaN\",Growling Grass Frog,Litoria raniformis,13207,2019-01-19T00:00:00.0000000,Frog census,Seen,1,Accurate,,Epping Pond 1 Cooper St Epping,145.00757,-37.65253,0,Matthew Le Feuvre,Vulnerable,Vulnerable,,Amphibians,,Acceptable,18/10/2024\n\"X: 2500688.25163115, Y: 2427591.61057176, Z: NaN\",Growling Grass Frog,Litoria raniformis,13207,2019-01-19T00:00:00.0000000,Frog census,Seen,1,Accurate,,Epping Pond 1 Cooper St Epping,145.0078,-37.65251,0,Matthew Le Feuvre,Vulnerable,Vulnerable,,Amphibians,,Acceptable,18/10/2024\n\"X: 2500714.01993514, Y: 2427627.12208843, Z: NaN\",Growling Grass Frog,Litoria raniformis,13207,2019-01-19T00:00:00.0000000,Frog census,Seen,3,Accurate,,Epping Pond 1 Cooper St Epping,145.00809,-37.65219,0,Matthew Le Feuvre,Vulnerable,Vulnerable,,Amphibians,,Acceptable,18/10/2024\n\"X: 2500699.26983777, Y: 2427449.3328786, Z: NaN\",Growling Grass Frog,Litoria raniformis,13207,2019-01-19T00:00:00.0000000,Frog census,Seen,7,Accurate,,Epping Pond 3 Cooper St Epping,145.00793,-37.65379,0,Matthew Le Feuvre,Vulnerable,Vulnerable,,Amphibians,,Acceptable,18/10/2024\n\"X: 2500726.00437436, Y: 2427437.78888421, Z: NaN\",Growling Grass Frog,Litoria raniformis,13207,2019-01-19T00:00:00.0000000,Frog census,Seen,1,Accurate,,Epping Pond 3 Cooper St Epping,145.00823,-37.65389,0,Matthew Le Feuvre,Vulnerable,Vulnerable,,Amphibians,,Acceptable,18/10/2024\n\"X: 2500748.85263062, Y: 2427382.29662528, Z: NaN\",Growling Grass Frog,Litoria raniformis,13207,2019-01-19T00:00:00.0000000,Frog census,Seen,3,Accurate,,Epping Pond 3 Cooper St Epping,145.00849,-37.65439,0,Matthew Le Feuvre,Vulnerable,Vulnerable,,Amphibians,,Acceptable,18/10/2024\n\"X: 2500730.94132125, Y: 2427387.73623735, Z: NaN\",Growling Grass Frog,Litoria raniformis,13207,2019-01-19T00:00:00.0000000,Frog census,Seen,2,Accurate,,Epping Pond 3 Cooper St Epping,145.00828,-37.65435,0,Matthew Le Feuvre,Vulnerable,Vulnerable,,Amphibians,,Acceptable,18/10/2024\n\"X: 2500707.20711867, Y: 2427401.16677319, Z: NaN\",Growling Grass Frog,Litoria raniformis,13207,2019-01-19T00:00:00.0000000,Frog census,Seen,1,Accurate,,Epping Pond 3 Cooper St Epping,145.00802,-37.65422,0,Matthew Le Feuvre,Vulnerable,Vulnerable,,Amphibians,,Acceptable,18/10/2024\n\"X: 2500635.0367189, Y: 2427485.73950639, Z: NaN\",Growling Grass Frog,Litoria raniformis,13207,2019-01-19T00:00:00.0000000,Frog census,Seen,3,Accurate,,Epping Pond 2 Cooper St Epping,145.0072,-37.65346,0,Matthew Le Feuvre,Vulnerable,Vulnerable,,Amphibians,,Acceptable,18/10/2024\n\"X: 2500648.00737443, Y: 2427485.51666628, Z: NaN\",Growling Grass Frog,Litoria raniformis,13207,2019-01-19T00:00:00.0000000,Frog census,Seen,6,Accurate,,Epping Pond 2 Cooper St Epping,145.00734,-37.65346,0,Matthew Le Feuvre,Vulnerable,Vulnerable,,Amphibians,,Acceptable,18/10/2024\n\"X: 2500650.74169038, Y: 2427472.42067339, Z: NaN\",Growling Grass Frog,Litoria raniformis,13207,2019-01-19T00:00:00.0000000,Frog census,Seen,5,Accurate,,Epping Pond 2 Cooper St Epping,145.00738,-37.65358,0,Matthew Le Feuvre,Vulnerable,Vulnerable,,Amphibians,,Acceptable,18/10/2024\n\"X: 2500651.44673972, Y: 2427460.43486128, Z: NaN\",Growling Grass Frog,Litoria raniformis,13207,2019-01-19T00:00:00.0000000,Frog census,Seen,3,Accurate,,Epping Pond 2 Cooper St Epping,145.00738,-37.65369,0,Matthew Le Feuvre,Vulnerable,Vulnerable,,Amphibians,,Acceptable,18/10/2024\n\"X: 2500652.59410149, Y: 2427465.31779288, Z: NaN\",Growling Grass Frog,Litoria raniformis,13207,2019-01-19T00:00:00.0000000,Frog census,Seen,4,Accurate,,Epping Pond 2 Cooper St Epping,145.0074,-37.65365,0,Matthew Le Feuvre,Vulnerable,Vulnerable,,Amphibians,,Acceptable,18/10/2024\n\"X: 2500632.30581954, Y: 2427545.78002505, Z: NaN\",Growling Grass Frog,Litoria raniformis,13207,2019-01-19T00:00:00.0000000,Frog census,Seen,3,Accurate,,Epping Pond 2 Cooper St Epping,145.00717,-37.65292,0,Matthew Le Feuvre,Vulnerable,Vulnerable,,Amphibians,,Acceptable,18/10/2024\n\"X: 2500649.1586828, Y: 2427541.45051041, Z: NaN\",Growling Grass Frog,Litoria raniformis,13207,2019-01-19T00:00:00.0000000,Frog census,Seen,1,Accurate,,Epping Pond 2 Cooper St Epping,145.00736,-37.65296,0,Matthew Le Feuvre,Vulnerable,Vulnerable,,Amphibians,,Acceptable,18/10/2024\n\"X: 2500666.80478974, Y: 2427525.02416384, Z: NaN\",Growling Grass Frog,Litoria raniformis,13207,2019-01-19T00:00:00.0000000,Frog census,Seen,2,Accurate,,Epping Pond 2 Cooper St Epping,145.00756,-37.65311,0,Matthew Le Feuvre,Vulnerable,Vulnerable,,Amphibians,,Acceptable,18/10/2024\n\"X: 2500684.27355651, Y: 2427497.72150729, Z: NaN\",Growling Grass Frog,Litoria raniformis,13207,2019-01-19T00:00:00.0000000,Frog census,Seen,1,Accurate,,Epping Pond 2 Cooper St Epping,145.00776,-37.65335,0,Matthew Le Feuvre,Vulnerable,Vulnerable,,Amphibians,,Acceptable,18/10/2024\n\"X: 2500680.91918952, Y: 2427480.74180086, Z: NaN\",Growling Grass Frog,Litoria raniformis,13207,2019-01-19T00:00:00.0000000,Frog census,Seen,4,Accurate,,Epping Pond 2 Cooper St Epping,145.00772,-37.65351,0,Matthew Le Feuvre,Vulnerable,Vulnerable,,Amphibians,,Acceptable,18/10/2024\n\"X: 2500685.9525736, Y: 2427529.6836812, Z: NaN\",Growling Grass Frog,Litoria raniformis,13207,2019-01-19T00:00:00.0000000,Frog census,Seen,1,Accurate,,Epping Pond 2 Cooper St Epping,145.00777,-37.65307,0,Matthew Le Feuvre,Vulnerable,Vulnerable,,Amphibians,,Acceptable,18/10/2024\n\"X: 2500673.16263951, Y: 2427585.95169237, Z: NaN\",Growling Grass Frog,Litoria raniformis,13207,2019-02-05T00:00:00.0000000,Frog census,Seen,2,Accurate,,Epping Pond 1 Cooper St Epping,145.00763,-37.65256,0,Matthew Le Feuvre,Vulnerable,Vulnerable,,Amphibians,,Acceptable,18/10/2024\n\"X: 2500679.25133509, Y: 2427590.83433185, Z: NaN\",Growling Grass Frog,Litoria raniformis,13207,2019-02-05T00:00:00.0000000,Frog census,Seen,1,Accurate,,Epping Pond 1 Cooper St Epping,145.0077,-37.65252,0,Matthew Le Feuvre,Vulnerable,Vulnerable,,Amphibians,,Acceptable,18/10/2024\n\"X: 2500686.31049504, Y: 2427592.72042176, Z: NaN\",Growling Grass Frog,Litoria raniformis,13207,2019-02-05T00:00:00.0000000,Frog census,Seen,1,Accurate,,Epping Pond 1 Cooper St Epping,145.00778,-37.6525,0,Matthew Le Feuvre,Vulnerable,Vulnerable,,Amphibians,,Acceptable,18/10/2024\n\"X: 2500692.31079766, Y: 2427594.49561285, Z: NaN\",Growling Grass Frog,Litoria raniformis,13207,2019-02-05T00:00:00.0000000,Frog census,Seen,1,Accurate,,Epping Pond 1 Cooper St Epping,145.00785,-37.65248,0,Matthew Le Feuvre,Vulnerable,Vulnerable,,Amphibians,,Acceptable,18/10/2024\n\"X: 2500699.37012994, Y: 2427598.37933563, Z: NaN\",Growling Grass Frog,Litoria raniformis,13207,2019-02-05T00:00:00.0000000,Frog census,Seen,2,Accurate,,Epping Pond 1 Cooper St Epping,145.00793,-37.65245,0,Matthew Le Feuvre,Vulnerable,Vulnerable,,Amphibians,,Acceptable,18/10/2024\n\"X: 2500703.51770854, Y: 2427603.26211871, Z: NaN\",Growling Grass Frog,Litoria raniformis,13207,2019-02-05T00:00:00.0000000,Frog census,Seen,2,Accurate,,Epping Pond 1 Cooper St Epping,145.00797,-37.6524,0,Matthew Le Feuvre,Vulnerable,Vulnerable,,Amphibians,,Acceptable,18/10/2024\n\"X: 2500708.63590725, Y: 2427608.14481784, Z: NaN\",Growling Grass Frog,Litoria raniformis,13207,2019-02-05T00:00:00.0000000,Frog census,Seen,1,Accurate,,Epping Pond 1 Cooper St Epping,145.00803,-37.65236,0,Matthew Le Feuvre,Vulnerable,Vulnerable,,Amphibians,,Acceptable,18/10/2024\n\"X: 2500716.93135489, Y: 2427621.01781818, Z: NaN\",Growling Grass Frog,Litoria raniformis,13207,2019-02-05T00:00:00.0000000,Frog census,Seen,2,Accurate,,Epping Pond 1 Cooper St Epping,145.00813,-37.65224,0,Matthew Le Feuvre,Vulnerable,Vulnerable,,Amphibians,,Acceptable,18/10/2024\n\"X: 2500728.4889384, Y: 2427603.81489133, Z: NaN\",Growling Grass Frog,Litoria raniformis,13207,2019-02-05T00:00:00.0000000,Frog census,Seen,3,Accurate,,Epping Pond 1 Cooper St Epping,145.00826,-37.6524,0,Matthew Le Feuvre,Vulnerable,Vulnerable,,Amphibians,,Acceptable,18/10/2024\n\"X: 2500735.01650017, Y: 2427579.6207463, Z: NaN\",Growling Grass Frog,Litoria raniformis,13207,2019-02-05T00:00:00.0000000,Frog census,Seen,2,Accurate,,Epping Pond 1 Cooper St Epping,145.00833,-37.65262,0,Matthew Le Feuvre,Vulnerable,Vulnerable,,Amphibians,,Acceptable,18/10/2024\n\"X: 2500658.69726181, Y: 2427659.31086618, Z: NaN\",Growling Grass Frog,Litoria raniformis,13207,2019-02-05T00:00:00.0000000,Frog census,Seen,1,Accurate,,Epping Pond 1 Cooper St Epping,145.00747,-37.6519,0,Matthew Le Feuvre,Vulnerable,Vulnerable,,Amphibians,,Acceptable,18/10/2024\n\"X: 2500651.54926076, Y: 2427651.4317189, Z: NaN\",Growling Grass Frog,Litoria raniformis,13207,2019-02-05T00:00:00.0000000,Frog census,Seen,1,Accurate,,Epping Pond 1 Cooper St Epping,145.00738,-37.65197,0,Matthew Le Feuvre,Vulnerable,Vulnerable,,Amphibians,,Acceptable,18/10/2024\n\"X: 2500648.72271801, Y: 2427612.4778866, Z: NaN\",Growling Grass Frog,Litoria raniformis,13207,2019-02-05T00:00:00.0000000,Frog census,Seen,1,Accurate,,Epping Pond 1 Cooper St Epping,145.00735,-37.65232,0,Matthew Le Feuvre,Vulnerable,Vulnerable,,Amphibians,,Acceptable,18/10/2024\n\"X: 2500646.60454952, Y: 2427606.48511854, Z: NaN\",Growling Grass Frog,Litoria raniformis,13207,2019-02-05T00:00:00.0000000,Frog census,Seen,1,Accurate,,Epping Pond 1 Cooper St Epping,145.00733,-37.65237,0,Matthew Le Feuvre,Vulnerable,Vulnerable,,Amphibians,,Acceptable,18/10/2024\n\"X: 2500649.51617415, Y: 2427602.48960626, Z: NaN\",Growling Grass Frog,Litoria raniformis,13207,2019-02-05T00:00:00.0000000,Frog census,Seen,1,Accurate,,Epping Pond 1 Cooper St Epping,145.00736,-37.65241,0,Matthew Le Feuvre,Vulnerable,Vulnerable,,Amphibians,,Acceptable,18/10/2024\n\"X: 2500745.78056275, Y: 2427568.41090593, Z: NaN\",Growling Grass Frog,Litoria raniformis,13207,2019-02-05T00:00:00.0000000,Frog census,Seen,2,Accurate,,Epping Pond 1 Cooper St Epping,145.00845,-37.65272,0,Matthew Le Feuvre,Vulnerable,Vulnerable,,Amphibians,,Acceptable,18/10/2024\n\"X: 2500755.75100404, Y: 2427565.19158825, Z: NaN\",Growling Grass Frog,Litoria raniformis,13207,2019-02-05T00:00:00.0000000,Frog census,Seen,3,Accurate,,Epping Pond 1 Cooper St Epping,145.00857,-37.65275,0,Matthew Le Feuvre,Vulnerable,Vulnerable,,Amphibians,,Acceptable,18/10/2024\n\"X: 2500765.81030955, Y: 2427567.96518287, Z: NaN\",Growling Grass Frog,Litoria raniformis,13207,2019-02-05T00:00:00.0000000,Frog census,Seen,2,Accurate,,Epping Pond 1 Cooper St Epping,145.00868,-37.65272,0,Matthew Le Feuvre,Vulnerable,Vulnerable,,Amphibians,,Acceptable,18/10/2024\n\"X: 2500765.1945589, Y: 2427588.94050099, Z: NaN\",Growling Grass Frog,Litoria raniformis,13207,2019-02-05T00:00:00.0000000,Frog census,Seen,3,Accurate,,Epping Pond 1 Cooper St Epping,145.00867,-37.65253,0,Matthew Le Feuvre,Vulnerable,Vulnerable,,Amphibians,,Acceptable,18/10/2024\n\"X: 2500759.54864206, Y: 2427604.14530293, Z: NaN\",Growling Grass Frog,Litoria raniformis,13207,2019-02-05T00:00:00.0000000,Frog census,Seen,1,Accurate,,Epping Pond 1 Cooper St Epping,145.00861,-37.6524,0,Matthew Le Feuvre,Vulnerable,Vulnerable,,Amphibians,,Acceptable,18/10/2024\n\"X: 2500796.3471097, Y: 2427640.32133125, Z: NaN\",Growling Grass Frog,Litoria raniformis,13207,2019-02-05T00:00:00.0000000,Frog census,Seen,3,Accurate,,Epping Pond 1 Cooper St Epping,145.00903,-37.65207,0,Matthew Le Feuvre,Vulnerable,Vulnerable,,Amphibians,,Acceptable,18/10/2024\n\"X: 2500792.37668866, Y: 2427643.42915228, Z: NaN\",Growling Grass Frog,Litoria raniformis,13207,2019-02-05T00:00:00.0000000,Frog census,Seen,2,Accurate,,Epping Pond 1 Cooper St Epping,145.00898,-37.65204,0,Matthew Le Feuvre,Vulnerable,Vulnerable,,Amphibians,,Acceptable,18/10/2024\n\"X: 2500785.40616218, Y: 2427645.53843066, Z: NaN\",Growling Grass Frog,Litoria raniformis,13207,2019-02-05T00:00:00.0000000,Frog census,Seen,4,Accurate,,Epping Pond 1 Cooper St Epping,145.0089,-37.65202,0,Matthew Le Feuvre,Vulnerable,Vulnerable,,Amphibians,,Acceptable,18/10/2024\n\"X: 2500773.49828482, Y: 2427694.81473927, Z: NaN\",Growling Grass Frog,Litoria raniformis,13207,2019-02-05T00:00:00.0000000,Frog census,Seen,3,Accurate,,Epping Pond 1 Cooper St Epping,145.00877,-37.65158,0,Matthew Le Feuvre,Vulnerable,Vulnerable,,Amphibians,,Acceptable,18/10/2024\n\"X: 2500768.29587798, Y: 2427734.99003898, Z: NaN\",Growling Grass Frog,Litoria raniformis,13207,2019-02-05T00:00:00.0000000,Frog census,Seen,3,Accurate,,Epping Pond 1 Cooper St Epping,145.00871,-37.65122,0,Matthew Le Feuvre,Vulnerable,Vulnerable,,Amphibians,,Acceptable,18/10/2024\n\"X: 2500647.57525286, Y: 2427606.48504376, Z: NaN\",Growling Grass Frog,Litoria raniformis,13207,2019-02-05T00:00:00.0000000,Frog census,Seen,1,Accurate,,Epping Pond 1 Cooper St Epping,145.00734,-37.65237,0,Matthew Le Feuvre,Vulnerable,Vulnerable,,Amphibians,,Acceptable,18/10/2024\n\"X: 2500648.45715648, Y: 2427601.49097714, Z: NaN\",Growling Grass Frog,Litoria raniformis,13207,2019-02-05T00:00:00.0000000,Frog census,Seen,1,Accurate,,Epping Pond 1 Cooper St Epping,145.00735,-37.65242,0,Matthew Le Feuvre,Vulnerable,Vulnerable,,Amphibians,,Acceptable,18/10/2024\n\"X: 2500660.2804489, Y: 2427593.27740921, Z: NaN\",Growling Grass Frog,Litoria raniformis,13207,2019-02-05T00:00:00.0000000,Frog census,Seen,2,Accurate,,Epping Pond 1 Cooper St Epping,145.00748,-37.65249,0,Matthew Le Feuvre,Vulnerable,Vulnerable,,Amphibians,,Acceptable,18/10/2024\n\"X: 2500667.25097241, Y: 2427589.05961015, Z: NaN\",Growling Grass Frog,Litoria raniformis,13207,2019-02-05T00:00:00.0000000,Frog census,Seen,2,Accurate,,Epping Pond 1 Cooper St Epping,145.00756,-37.65253,0,Matthew Le Feuvre,Vulnerable,Vulnerable,,Amphibians,,Acceptable,18/10/2024\n\"X: 2500680.83071024, Y: 2427477.74534104, Z: NaN\",Growling Grass Frog,Litoria raniformis,13207,2019-02-05T00:00:00.0000000,Frog census,Seen,6,Accurate,,Epping Pond 2 Cooper St Epping,145.00772,-37.65353,0,Matthew Le Feuvre,Vulnerable,Vulnerable,,Amphibians,,Acceptable,18/10/2024\n\"X: 2500681.0965532, Y: 2427491.72883183, Z: NaN\",Growling Grass Frog,Litoria raniformis,13207,2019-02-05T00:00:00.0000000,Frog census,Seen,2,Accurate,,Epping Pond 2 Cooper St Epping,145.00772,-37.65341,0,Matthew Le Feuvre,Vulnerable,Vulnerable,,Amphibians,,Acceptable,18/10/2024\n\"X: 2500675.45063774, Y: 2427506.93358214, Z: NaN\",Growling Grass Frog,Litoria raniformis,13207,2019-02-05T00:00:00.0000000,Frog census,Seen,1,Accurate,,Epping Pond 2 Cooper St Epping,145.00766,-37.65327,0,Matthew Le Feuvre,Vulnerable,Vulnerable,,Amphibians,,Acceptable,18/10/2024\n\"X: 2500662.04080284, Y: 2427535.23461175, Z: NaN\",Growling Grass Frog,Litoria raniformis,13207,2019-02-05T00:00:00.0000000,Frog census,Seen,1,Accurate,,Epping Pond 2 Cooper St Epping,145.0075,-37.65302,0,Matthew Le Feuvre,Vulnerable,Vulnerable,,Amphibians,,Acceptable,18/10/2024\n\"X: 2500651.18821246, Y: 2427542.44917544, Z: NaN\",Growling Grass Frog,Litoria raniformis,13207,2019-02-05T00:00:00.0000000,Frog census,Seen,1,Accurate,,Epping Pond 2 Cooper St Epping,145.00738,-37.65295,0,Matthew Le Feuvre,Vulnerable,Vulnerable,,Amphibians,,Acceptable,18/10/2024\n\"X: 2500649.24699705, Y: 2427542.4493257, Z: NaN\",Growling Grass Frog,Litoria raniformis,13207,2019-02-05T00:00:00.0000000,Frog census,Seen,1,Accurate,,Epping Pond 2 Cooper St Epping,145.00736,-37.65295,0,Matthew Le Feuvre,Vulnerable,Vulnerable,,Amphibians,,Acceptable,18/10/2024\n\"X: 2500621.18756338, Y: 2427543.00634873, Z: NaN\",Growling Grass Frog,Litoria raniformis,13207,2019-02-05T00:00:00.0000000,Frog census,Seen,4,Accurate,,Epping Pond 2 Cooper St Epping,145.00704,-37.65295,0,Matthew Le Feuvre,Vulnerable,Vulnerable,,Amphibians,,Acceptable,18/10/2024\n\"X: 2500619.77447284, Y: 2427523.03001012, Z: NaN\",Growling Grass Frog,Litoria raniformis,13207,2019-02-05T00:00:00.0000000,Frog census,Seen,3,Accurate,,Epping Pond 2 Cooper St Epping,145.00702,-37.65313,0,Matthew Le Feuvre,Vulnerable,Vulnerable,,Amphibians,,Acceptable,18/10/2024\n\"X: 2500617.47929474, Y: 2427509.15764851, Z: NaN\",Growling Grass Frog,Litoria raniformis,13207,2019-02-05T00:00:00.0000000,Frog census,Seen,1,Accurate,,Epping Pond 2 Cooper St Epping,145.007,-37.65325,0,Matthew Le Feuvre,Vulnerable,Vulnerable,,Amphibians,,Acceptable,18/10/2024\n\"X: 2500617.30216071, Y: 2427500.16837232, Z: NaN\",Growling Grass Frog,Litoria raniformis,13207,2019-02-05T00:00:00.0000000,Frog census,Seen,2,Accurate,,Epping Pond 2 Cooper St Epping,145.007,-37.65333,0,Matthew Le Feuvre,Vulnerable,Vulnerable,,Amphibians,,Acceptable,18/10/2024\n\"X: 2500615.00721928, Y: 2427488.18267332, Z: NaN\",Growling Grass Frog,Litoria raniformis,13207,2019-02-05T00:00:00.0000000,Frog census,Seen,3,Accurate,,Epping Pond 2 Cooper St Epping,145.00697,-37.65344,0,Matthew Le Feuvre,Vulnerable,Vulnerable,,Amphibians,,Acceptable,18/10/2024\n\"X: 2500648.88951013, Y: 2427481.41021769, Z: NaN\",Growling Grass Frog,Litoria raniformis,13207,2019-02-05T00:00:00.0000000,Frog census,Seen,5,Accurate,,Epping Pond 2 Cooper St Epping,145.00735,-37.6535,0,Matthew Le Feuvre,Vulnerable,Vulnerable,,Amphibians,,Acceptable,18/10/2024\n\"X: 2500650.65323282, Y: 2427468.42539081, Z: NaN\",Growling Grass Frog,Litoria raniformis,13207,2019-02-05T00:00:00.0000000,Frog census,Seen,1,Accurate,,Epping Pond 2 Cooper St Epping,145.00737,-37.65362,0,Matthew Le Feuvre,Vulnerable,Vulnerable,,Amphibians,,Acceptable,18/10/2024\n\"X: 2500653.47616375, Y: 2427460.32361239, Z: NaN\",Growling Grass Frog,Litoria raniformis,13207,2019-02-05T00:00:00.0000000,Frog census,Seen,2,Accurate,,Epping Pond 2 Cooper St Epping,145.00741,-37.65369,0,Matthew Le Feuvre,Vulnerable,Vulnerable,,Amphibians,,Acceptable,18/10/2024\n\"X: 2500834.732687, Y: 2427660.51611121, Z: NaN\",Growling Grass Frog,Litoria raniformis,13207,2019-02-05T00:00:00.0000000,Frog census,Seen,3,Accurate,,Epping Pond 12 Cooper St Epping,145.00946,-37.65189,0,Matthew Le Feuvre,Vulnerable,Vulnerable,,Amphibians,,Acceptable,18/10/2024\n\"X: 2496516.10306346, Y: 2424007.12146123, Z: NaN\",Growling Grass Frog,Litoria raniformis,13207,2012-02-16T00:00:00.0000000,Frog transect,Seen,2,,,\"Bolinda Quarry Bolinda Rd Quarry, Campbellfield\",144.9605,-37.6848,0,Cristina Del Borrello,Vulnerable,Vulnerable,,Amphibians,,Acceptable,18/10/2024\n\"X: 2497406.93044922, Y: 2423985.2476224, Z: NaN\",Growling Grass Frog,Litoria raniformis,13207,2012-02-16T00:00:00.0000000,Frog transect,Seen,1,,,\"Bolinda Quarry Bolinda Rd Quarry, Campbellfield\",144.9706,-37.685,0,Cristina Del Borrello,Vulnerable,Vulnerable,,Amphibians,,Acceptable,18/10/2024\n\"X: 2498004.45529791, Y: 2422981.58113418, Z: NaN\",Growling Grass Frog,Litoria raniformis,13207,2019-12-31T00:00:00.0000000,General observations,Seen,2,Accurate,,\"2-3 Hamersley Court, Fawkner Victoria 3060, Australia 2-3 Hamersley Court, Fawkner Victoria 3060, Australia\",144.97737,-37.69405,0,Tristan Best,Vulnerable,Vulnerable,,Amphibians,,Confirmed,18/10/2024\n\"X: 2497712.73195609, Y: 2424263.12311058, Z: NaN\",Growling Grass Frog,Litoria raniformis,13207,2021-03-23T00:00:00.0000000,General observations,Seen,8,Accurate,,\"24 Horne Street, Thomastown Victoria 3074, Australia 24 Horne Street, Thomastown Victoria 3074, Australia\",144.97407,-37.6825,0,Tanya White,Vulnerable,Vulnerable,,Amphibians,,Acceptable,18/10/2024\n\"X: 2500881.40889675, Y: 2427644.53019524, Z: NaN\",Growling Grass Frog,Litoria raniformis,13207,2019-02-05T00:00:00.0000000,Frog census,Heard,1,Accurate,,Epping Pond 12 Cooper St Epping,145.00999,-37.65203,0,Matthew Le Feuvre,Vulnerable,Vulnerable,,Amphibians,,Acceptable,18/10/2024\n\"X: 2498306.01152982, Y: 2422360.48078384, Z: NaN\",Growling Grass Frog,Litoria raniformis,13207,2020-11-19T00:00:00.0000000,General observations,Seen,1,Accurate,,\"16 Mia Close, Reservoir Victoria 3073, Australia 16 Mia Close, Reservoir Victoria 3073, Australia\",144.98079,-37.69964,0,Tristan Best,Vulnerable,Vulnerable,,Amphibians,,Acceptable,18/10/2024\n\"X: 2498250.55769685, Y: 2421456.73997613, Z: NaN\",Growling Grass Frog,Litoria raniformis,13207,2019-01-21T00:00:00.0000000,General observations,Seen,1,Accurate,,\"13a Brex Court, Reservoir Victoria 3073, Australia 13a Brex Court, Reservoir Victoria 3073, Australia\",144.98016,-37.70779,0,Tristan Best,Vulnerable,Vulnerable,,Amphibians,,Acceptable,18/10/2024\n\"X: 2500484.40455305, Y: 2427259.57169647, Z: NaN\",Growling Grass Frog,Litoria raniformis,13207,2000-10-31T00:00:00.0000000,Incidental,Heard,100,Estimate (range),,Epping Waste Disposal Land Near Edgars Ck Epping,145.00549,-37.6555,0,Sally Koehler,Vulnerable,Vulnerable,,Amphibians,,Acceptable,18/10/2024\n\"X: 2500484.40455305, Y: 2427259.57169647, Z: NaN\",Growling Grass Frog,Litoria raniformis,13207,2000-10-31T00:00:00.0000000,Incidental,Seen,20,Accurate,,Epping Waste Disposal Land Near Edgars Ck Epping,145.00549,-37.6555,0,Sally Koehler,Vulnerable,Vulnerable,,Amphibians,,Acceptable,18/10/2024\n\"X: 2497018.76443793, Y: 2424232.60745957, Z: NaN\",Growling Grass Frog,Litoria raniformis,13207,2003-02-25T00:00:00.0000000,General observations,Observation,7,Accurate,,\"NRT quarry: Bolinda Rd., Campbellfield, Victoria. NRTCAMP1\",144.9662,-37.68277,0,Lawrie Conole,Vulnerable,Vulnerable,,Amphibians,,Acceptable,18/10/2024\n\"X: 2499347.56313825, Y: 2420882.56177198, Z: NaN\",Growling Grass Frog,Litoria raniformis,13207,1992-03-03T00:00:00.0000000,Incidental,Observation,2,Accurate,,ROUGHLY 2 KM W OF KEON PARK TECHNICAL SCHOO,144.9926,-37.71296,0,Cam Beardsell,Vulnerable,Vulnerable,,Amphibians,,Acceptable,18/10/2024\n\"X: 2498709.10701807, Y: 2427447.04329992, Z: NaN\",Growling Grass Frog,Litoria raniformis,13207,2001-12-21T00:00:00.0000000,General observations,Seen,15,Accurate,,Former Quarry: Campbellfield,144.98537,-37.65381,0,Geoffrey Heard,Vulnerable,Vulnerable,,Amphibians,,Acceptable,18/10/2024\n\"X: 2496479.97255404, Y: 2423931.63891946, Z: NaN\",Growling Grass Frog,Litoria raniformis,13207,2003-03-27T00:00:00.0000000,General observations,Seen,13,Accurate,,Nubrik Clay Quarry: Campbellfield,144.96009,-37.68548,0,Geoffrey Heard,Vulnerable,Vulnerable,,Amphibians,,Acceptable,18/10/2024\n\"X: 2497678.46060424, Y: 2424440.35104601, Z: NaN\",Growling Grass Frog,Litoria raniformis,13207,2009-03-26T00:00:00.0000000,General observations,Seen,1,,,Merri Ck Merri Creek near 54a Somerset Rd Campbellfield,144.97368,-37.6809,0,Cristina Del Borrello,Vulnerable,Vulnerable,,Amphibians,,Acceptable,18/10/2024\n\"X: 2496595.68055313, Y: 2423518.8349296, Z: NaN\",Growling Grass Frog,Litoria raniformis,13207,2011-11-10T00:00:00.0000000,Incidental,Observation,1,,,North Melbourne Crn Hume Hwy & Mahoney's Rd,144.9614,-37.6892,0,Ray Draper,Vulnerable,Vulnerable,,Amphibians,,Acceptable,18/10/2024\n\"X: 2497524.51064614, Y: 2424252.63758394, Z: NaN\",Growling Grass Frog,Litoria raniformis,13207,2016-02-08T00:00:00.0000000,Frog census,Observation,1,Accurate,,GT_1A Galada Tamboore,144.97193,-37.68259,0,Jake Urlus,Vulnerable,Vulnerable,,Amphibians,,Acceptable,18/10/2024\n\"X: 2497459.85354157, Y: 2424268.04469682, Z: NaN\",Growling Grass Frog,Litoria raniformis,13207,2016-02-08T00:00:00.0000000,Frog census,Observation,18,Accurate,,GT_1B Galada Tamboore,144.9712,-37.68245,0,Jake Urlus,Vulnerable,Vulnerable,,Amphibians,,Acceptable,18/10/2024\n\"X: 2497540.93849732, Y: 2424176.28704148, Z: NaN\",Growling Grass Frog,Litoria raniformis,13207,2016-02-11T00:00:00.0000000,Frog census,Observation,2,Accurate,,GT_2 Galada Tamboore,144.97212,-37.68328,0,Jake Urlus,Vulnerable,Vulnerable,,Amphibians,,Acceptable,18/10/2024\n\"X: 2497540.93849732, Y: 2424176.28704148, Z: NaN\",Growling Grass Frog,Litoria raniformis,13207,2016-02-08T00:00:00.0000000,Frog census,Observation,1,Accurate,,GT_2 Galada Tamboore,144.97212,-37.68328,0,Jake Urlus,Vulnerable,Vulnerable,,Amphibians,,Acceptable,18/10/2024\n\"X: 2497412.84001983, Y: 2423984.91650063, Z: NaN\",Growling Grass Frog,Litoria raniformis,13207,2016-01-11T00:00:00.0000000,Frog census,Observation,7,Accurate,,GT_3 Galada Tamboore,144.97067,-37.685,0,Jake Urlus,Vulnerable,Vulnerable,,Amphibians,,Acceptable,18/10/2024\n\"X: 2497412.84001983, Y: 2423984.91650063, Z: NaN\",Growling Grass Frog,Litoria raniformis,13207,2016-02-08T00:00:00.0000000,Frog census,Observation,5,Accurate,,GT_3 Galada Tamboore,144.97067,-37.685,0,Jake Urlus,Vulnerable,Vulnerable,,Amphibians,,Acceptable,18/10/2024\n\"X: 2500590.30557148, Y: 2427556.99208496, Z: NaN\",Growling Grass Frog,Litoria raniformis,13207,2001-07-31T00:00:00.0000000,Incidental,Heard,100,Estimate (range),,Epping Waste Disposal Near Edgars Ck Epping,145.00669,-37.65282,0,Sally Koehler,Vulnerable,Vulnerable,,Amphibians,,Acceptable,18/10/2024\n\"X: 2496521.41795994, Y: 2423951.63298885, Z: NaN\",Growling Grass Frog,Litoria raniformis,13207,2012-02-07T00:00:00.0000000,Frog transect,Seen,2,,,\"Bolinda Quarry Bolinda Road Quarry, Campbellfield\",144.96056,-37.6853,0,Cristina Del Borrello,Vulnerable,Vulnerable,,Amphibians,,Acceptable,18/10/2024\n\"X: 2497427.21637998, Y: 2423985.25375168, Z: NaN\",Growling Grass Frog,Litoria raniformis,13207,2012-02-16T00:00:00.0000000,Frog transect,Seen,1,,,Bolinda Quarry Sediment pond adjacent to Merri Creek,144.97083,-37.685,0,Cristina Del Borrello,Vulnerable,Vulnerable,,Amphibians,,Acceptable,18/10/2024\n\"X: 2497621.16178683, Y: 2424319.36526379, Z: NaN\",Growling Grass Frog,Litoria raniformis,13207,1986-12-02T00:00:00.0000000,Incidental,Observation,10,Accurate,,ROUGHLY 2 KM S OF CAMPBELLFIELD,144.97303,-37.68199,0,Cam Beardsell,Vulnerable,Vulnerable,,Amphibians,,Acceptable,18/10/2024\n\"X: 2498089.67645034, Y: 2427510.18401837, Z: NaN\",Growling Grass Frog,Litoria raniformis,13207,1989-08-15T00:00:00.0000000,Incidental,Observation,,Present not counted,,ROUGHLY 2 KM N OF CAMPBELLFIELD,144.97835,-37.65324,0,Tom Lowe,Vulnerable,Vulnerable,,Amphibians,,Acceptable,18/10/2024\n\"X: 2498089.67645034, Y: 2427510.18401837, Z: NaN\",Growling Grass Frog,Litoria raniformis,13207,1990-01-31T00:00:00.0000000,Incidental,Observation,,Present not counted,,ROUGHLY 2 KM N OF CAMPBELLFIELD,144.97835,-37.65324,0,Cam Beardsell,Vulnerable,Vulnerable,,Amphibians,,Acceptable,18/10/2024\n\"X: 2498186.64444527, Y: 2423851.1646007, Z: NaN\",Growling Grass Frog,Litoria raniformis,13207,2004-11-25T00:00:00.0000000,General observations,Seen,30,Accurate,,Boral Clay Quarry: Campbellfield,144.97944,-37.68621,0,Geoffrey Heard,Vulnerable,Vulnerable,,Amphibians,,Acceptable,18/10/2024\n\"X: 2500788.82968968, Y: 2427452.65457574, Z: NaN\",Growling Grass Frog,Litoria raniformis,13207,2001-12-05T00:00:00.0000000,Incidental,Observation,6,Accurate,,Edgars Road Quarry,145.00894,-37.65376,1,Aaron Organ,Vulnerable,Vulnerable,,Amphibians,,Acceptable,18/10/2024\n\"X: 2500224.37978124, Y: 2427089.37373699, Z: NaN\",Growling Grass Frog,Litoria raniformis,13207,2014-03-12T00:00:00.0000000,Spotlighting,Heard,3,Accurate,,Hume Fwy and Cooper St Epping,145.00254,-37.65703,0,Kailash Willis,Vulnerable,Vulnerable,,Amphibians,,Acceptable,18/10/2024\n\"X: 2500082.94167338, Y: 2427531.48696282, Z: NaN\",Growling Grass Frog,Litoria raniformis,13207,2005-01-24T00:00:00.0000000,Frog census,Seen,19,Accurate,,Melbourne Wholesale Markets proposed site. 295-315 Cooper st. Epping,145.00094,-37.65305,0,Ecology Australia,Vulnerable,Vulnerable,,Amphibians,,Acceptable,18/10/2024\n\"X: 2499426.55762746, Y: 2426119.79583677, Z: NaN\",Growling Grass Frog,Litoria raniformis,13207,2005-03-14T00:00:00.0000000,Frog census,Seen,23,Accurate,,\"Former Epping Waste Disposal Site, Cooper St.\",144.9935,-37.66577,0,Ecology Australia,Vulnerable,Vulnerable,,Amphibians,,Acceptable,18/10/2024\n\"X: 2498113.46387485, Y: 2424139.58944399, Z: NaN\",Growling Grass Frog,Litoria raniformis,13207,2020-10-28T00:00:00.0000000,Targeted search,Observation,,Present not counted,,\"2 Trawalla Avenue, Thomastown 2.1km south-east of Campbellfield\",144.97861,-37.68361,0,Guillermo Mayor,Vulnerable,Vulnerable,,Amphibians,,Acceptable,18/10/2024\n",
         "center": {
          "lat": -37.66044327102802,
          "lon": 144.99918401869155
         },
         "domain": {
          "x": [
           0,
           1
          ],
          "y": [
           0,
           1
          ]
         },
         "style": "open-street-map",
         "zoom": 13
        },
        "margin": {
         "b": 0,
         "l": 0,
         "r": 0,
         "t": 0
        },
        "template": {
         "data": {
          "bar": [
           {
            "error_x": {
             "color": "#2a3f5f"
            },
            "error_y": {
             "color": "#2a3f5f"
            },
            "marker": {
             "line": {
              "color": "#E5ECF6",
              "width": 0.5
             },
             "pattern": {
              "fillmode": "overlay",
              "size": 10,
              "solidity": 0.2
             }
            },
            "type": "bar"
           }
          ],
          "barpolar": [
           {
            "marker": {
             "line": {
              "color": "#E5ECF6",
              "width": 0.5
             },
             "pattern": {
              "fillmode": "overlay",
              "size": 10,
              "solidity": 0.2
             }
            },
            "type": "barpolar"
           }
          ],
          "carpet": [
           {
            "aaxis": {
             "endlinecolor": "#2a3f5f",
             "gridcolor": "white",
             "linecolor": "white",
             "minorgridcolor": "white",
             "startlinecolor": "#2a3f5f"
            },
            "baxis": {
             "endlinecolor": "#2a3f5f",
             "gridcolor": "white",
             "linecolor": "white",
             "minorgridcolor": "white",
             "startlinecolor": "#2a3f5f"
            },
            "type": "carpet"
           }
          ],
          "choropleth": [
           {
            "colorbar": {
             "outlinewidth": 0,
             "ticks": ""
            },
            "type": "choropleth"
           }
          ],
          "contour": [
           {
            "colorbar": {
             "outlinewidth": 0,
             "ticks": ""
            },
            "colorscale": [
             [
              0,
              "#0d0887"
             ],
             [
              0.1111111111111111,
              "#46039f"
             ],
             [
              0.2222222222222222,
              "#7201a8"
             ],
             [
              0.3333333333333333,
              "#9c179e"
             ],
             [
              0.4444444444444444,
              "#bd3786"
             ],
             [
              0.5555555555555556,
              "#d8576b"
             ],
             [
              0.6666666666666666,
              "#ed7953"
             ],
             [
              0.7777777777777778,
              "#fb9f3a"
             ],
             [
              0.8888888888888888,
              "#fdca26"
             ],
             [
              1,
              "#f0f921"
             ]
            ],
            "type": "contour"
           }
          ],
          "contourcarpet": [
           {
            "colorbar": {
             "outlinewidth": 0,
             "ticks": ""
            },
            "type": "contourcarpet"
           }
          ],
          "heatmap": [
           {
            "colorbar": {
             "outlinewidth": 0,
             "ticks": ""
            },
            "colorscale": [
             [
              0,
              "#0d0887"
             ],
             [
              0.1111111111111111,
              "#46039f"
             ],
             [
              0.2222222222222222,
              "#7201a8"
             ],
             [
              0.3333333333333333,
              "#9c179e"
             ],
             [
              0.4444444444444444,
              "#bd3786"
             ],
             [
              0.5555555555555556,
              "#d8576b"
             ],
             [
              0.6666666666666666,
              "#ed7953"
             ],
             [
              0.7777777777777778,
              "#fb9f3a"
             ],
             [
              0.8888888888888888,
              "#fdca26"
             ],
             [
              1,
              "#f0f921"
             ]
            ],
            "type": "heatmap"
           }
          ],
          "heatmapgl": [
           {
            "colorbar": {
             "outlinewidth": 0,
             "ticks": ""
            },
            "colorscale": [
             [
              0,
              "#0d0887"
             ],
             [
              0.1111111111111111,
              "#46039f"
             ],
             [
              0.2222222222222222,
              "#7201a8"
             ],
             [
              0.3333333333333333,
              "#9c179e"
             ],
             [
              0.4444444444444444,
              "#bd3786"
             ],
             [
              0.5555555555555556,
              "#d8576b"
             ],
             [
              0.6666666666666666,
              "#ed7953"
             ],
             [
              0.7777777777777778,
              "#fb9f3a"
             ],
             [
              0.8888888888888888,
              "#fdca26"
             ],
             [
              1,
              "#f0f921"
             ]
            ],
            "type": "heatmapgl"
           }
          ],
          "histogram": [
           {
            "marker": {
             "pattern": {
              "fillmode": "overlay",
              "size": 10,
              "solidity": 0.2
             }
            },
            "type": "histogram"
           }
          ],
          "histogram2d": [
           {
            "colorbar": {
             "outlinewidth": 0,
             "ticks": ""
            },
            "colorscale": [
             [
              0,
              "#0d0887"
             ],
             [
              0.1111111111111111,
              "#46039f"
             ],
             [
              0.2222222222222222,
              "#7201a8"
             ],
             [
              0.3333333333333333,
              "#9c179e"
             ],
             [
              0.4444444444444444,
              "#bd3786"
             ],
             [
              0.5555555555555556,
              "#d8576b"
             ],
             [
              0.6666666666666666,
              "#ed7953"
             ],
             [
              0.7777777777777778,
              "#fb9f3a"
             ],
             [
              0.8888888888888888,
              "#fdca26"
             ],
             [
              1,
              "#f0f921"
             ]
            ],
            "type": "histogram2d"
           }
          ],
          "histogram2dcontour": [
           {
            "colorbar": {
             "outlinewidth": 0,
             "ticks": ""
            },
            "colorscale": [
             [
              0,
              "#0d0887"
             ],
             [
              0.1111111111111111,
              "#46039f"
             ],
             [
              0.2222222222222222,
              "#7201a8"
             ],
             [
              0.3333333333333333,
              "#9c179e"
             ],
             [
              0.4444444444444444,
              "#bd3786"
             ],
             [
              0.5555555555555556,
              "#d8576b"
             ],
             [
              0.6666666666666666,
              "#ed7953"
             ],
             [
              0.7777777777777778,
              "#fb9f3a"
             ],
             [
              0.8888888888888888,
              "#fdca26"
             ],
             [
              1,
              "#f0f921"
             ]
            ],
            "type": "histogram2dcontour"
           }
          ],
          "mesh3d": [
           {
            "colorbar": {
             "outlinewidth": 0,
             "ticks": ""
            },
            "type": "mesh3d"
           }
          ],
          "parcoords": [
           {
            "line": {
             "colorbar": {
              "outlinewidth": 0,
              "ticks": ""
             }
            },
            "type": "parcoords"
           }
          ],
          "pie": [
           {
            "automargin": true,
            "type": "pie"
           }
          ],
          "scatter": [
           {
            "fillpattern": {
             "fillmode": "overlay",
             "size": 10,
             "solidity": 0.2
            },
            "type": "scatter"
           }
          ],
          "scatter3d": [
           {
            "line": {
             "colorbar": {
              "outlinewidth": 0,
              "ticks": ""
             }
            },
            "marker": {
             "colorbar": {
              "outlinewidth": 0,
              "ticks": ""
             }
            },
            "type": "scatter3d"
           }
          ],
          "scattercarpet": [
           {
            "marker": {
             "colorbar": {
              "outlinewidth": 0,
              "ticks": ""
             }
            },
            "type": "scattercarpet"
           }
          ],
          "scattergeo": [
           {
            "marker": {
             "colorbar": {
              "outlinewidth": 0,
              "ticks": ""
             }
            },
            "type": "scattergeo"
           }
          ],
          "scattergl": [
           {
            "marker": {
             "colorbar": {
              "outlinewidth": 0,
              "ticks": ""
             }
            },
            "type": "scattergl"
           }
          ],
          "scattermapbox": [
           {
            "marker": {
             "colorbar": {
              "outlinewidth": 0,
              "ticks": ""
             }
            },
            "type": "scattermapbox"
           }
          ],
          "scatterpolar": [
           {
            "marker": {
             "colorbar": {
              "outlinewidth": 0,
              "ticks": ""
             }
            },
            "type": "scatterpolar"
           }
          ],
          "scatterpolargl": [
           {
            "marker": {
             "colorbar": {
              "outlinewidth": 0,
              "ticks": ""
             }
            },
            "type": "scatterpolargl"
           }
          ],
          "scatterternary": [
           {
            "marker": {
             "colorbar": {
              "outlinewidth": 0,
              "ticks": ""
             }
            },
            "type": "scatterternary"
           }
          ],
          "surface": [
           {
            "colorbar": {
             "outlinewidth": 0,
             "ticks": ""
            },
            "colorscale": [
             [
              0,
              "#0d0887"
             ],
             [
              0.1111111111111111,
              "#46039f"
             ],
             [
              0.2222222222222222,
              "#7201a8"
             ],
             [
              0.3333333333333333,
              "#9c179e"
             ],
             [
              0.4444444444444444,
              "#bd3786"
             ],
             [
              0.5555555555555556,
              "#d8576b"
             ],
             [
              0.6666666666666666,
              "#ed7953"
             ],
             [
              0.7777777777777778,
              "#fb9f3a"
             ],
             [
              0.8888888888888888,
              "#fdca26"
             ],
             [
              1,
              "#f0f921"
             ]
            ],
            "type": "surface"
           }
          ],
          "table": [
           {
            "cells": {
             "fill": {
              "color": "#EBF0F8"
             },
             "line": {
              "color": "white"
             }
            },
            "header": {
             "fill": {
              "color": "#C8D4E3"
             },
             "line": {
              "color": "white"
             }
            },
            "type": "table"
           }
          ]
         },
         "layout": {
          "annotationdefaults": {
           "arrowcolor": "#2a3f5f",
           "arrowhead": 0,
           "arrowwidth": 1
          },
          "autotypenumbers": "strict",
          "coloraxis": {
           "colorbar": {
            "outlinewidth": 0,
            "ticks": ""
           }
          },
          "colorscale": {
           "diverging": [
            [
             0,
             "#8e0152"
            ],
            [
             0.1,
             "#c51b7d"
            ],
            [
             0.2,
             "#de77ae"
            ],
            [
             0.3,
             "#f1b6da"
            ],
            [
             0.4,
             "#fde0ef"
            ],
            [
             0.5,
             "#f7f7f7"
            ],
            [
             0.6,
             "#e6f5d0"
            ],
            [
             0.7,
             "#b8e186"
            ],
            [
             0.8,
             "#7fbc41"
            ],
            [
             0.9,
             "#4d9221"
            ],
            [
             1,
             "#276419"
            ]
           ],
           "sequential": [
            [
             0,
             "#0d0887"
            ],
            [
             0.1111111111111111,
             "#46039f"
            ],
            [
             0.2222222222222222,
             "#7201a8"
            ],
            [
             0.3333333333333333,
             "#9c179e"
            ],
            [
             0.4444444444444444,
             "#bd3786"
            ],
            [
             0.5555555555555556,
             "#d8576b"
            ],
            [
             0.6666666666666666,
             "#ed7953"
            ],
            [
             0.7777777777777778,
             "#fb9f3a"
            ],
            [
             0.8888888888888888,
             "#fdca26"
            ],
            [
             1,
             "#f0f921"
            ]
           ],
           "sequentialminus": [
            [
             0,
             "#0d0887"
            ],
            [
             0.1111111111111111,
             "#46039f"
            ],
            [
             0.2222222222222222,
             "#7201a8"
            ],
            [
             0.3333333333333333,
             "#9c179e"
            ],
            [
             0.4444444444444444,
             "#bd3786"
            ],
            [
             0.5555555555555556,
             "#d8576b"
            ],
            [
             0.6666666666666666,
             "#ed7953"
            ],
            [
             0.7777777777777778,
             "#fb9f3a"
            ],
            [
             0.8888888888888888,
             "#fdca26"
            ],
            [
             1,
             "#f0f921"
            ]
           ]
          },
          "colorway": [
           "#636efa",
           "#EF553B",
           "#00cc96",
           "#ab63fa",
           "#FFA15A",
           "#19d3f3",
           "#FF6692",
           "#B6E880",
           "#FF97FF",
           "#FECB52"
          ],
          "font": {
           "color": "#2a3f5f"
          },
          "geo": {
           "bgcolor": "white",
           "lakecolor": "white",
           "landcolor": "#E5ECF6",
           "showlakes": true,
           "showland": true,
           "subunitcolor": "white"
          },
          "hoverlabel": {
           "align": "left"
          },
          "hovermode": "closest",
          "mapbox": {
           "style": "light"
          },
          "paper_bgcolor": "white",
          "plot_bgcolor": "#E5ECF6",
          "polar": {
           "angularaxis": {
            "gridcolor": "white",
            "linecolor": "white",
            "ticks": ""
           },
           "bgcolor": "#E5ECF6",
           "radialaxis": {
            "gridcolor": "white",
            "linecolor": "white",
            "ticks": ""
           }
          },
          "scene": {
           "xaxis": {
            "backgroundcolor": "#E5ECF6",
            "gridcolor": "white",
            "gridwidth": 2,
            "linecolor": "white",
            "showbackground": true,
            "ticks": "",
            "zerolinecolor": "white"
           },
           "yaxis": {
            "backgroundcolor": "#E5ECF6",
            "gridcolor": "white",
            "gridwidth": 2,
            "linecolor": "white",
            "showbackground": true,
            "ticks": "",
            "zerolinecolor": "white"
           },
           "zaxis": {
            "backgroundcolor": "#E5ECF6",
            "gridcolor": "white",
            "gridwidth": 2,
            "linecolor": "white",
            "showbackground": true,
            "ticks": "",
            "zerolinecolor": "white"
           }
          },
          "shapedefaults": {
           "line": {
            "color": "#2a3f5f"
           }
          },
          "ternary": {
           "aaxis": {
            "gridcolor": "white",
            "linecolor": "white",
            "ticks": ""
           },
           "baxis": {
            "gridcolor": "white",
            "linecolor": "white",
            "ticks": ""
           },
           "bgcolor": "#E5ECF6",
           "caxis": {
            "gridcolor": "white",
            "linecolor": "white",
            "ticks": ""
           }
          },
          "title": {
           "x": 0.05
          },
          "xaxis": {
           "automargin": true,
           "gridcolor": "white",
           "linecolor": "white",
           "ticks": "",
           "title": {
            "standoff": 15
           },
           "zerolinecolor": "white",
           "zerolinewidth": 2
          },
          "yaxis": {
           "automargin": true,
           "gridcolor": "white",
           "linecolor": "white",
           "ticks": "",
           "title": {
            "standoff": 15
           },
           "zerolinecolor": "white",
           "zerolinewidth": 2
          }
         }
        },
        "width": 800
       }
      },
      "text/html": [
       "<div>                            <div id=\"f3813766-03ea-4a50-bad9-c1903ae1f1be\" class=\"plotly-graph-div\" style=\"height:800px; width:800px;\"></div>            <script type=\"text/javascript\">                require([\"plotly\"], function(Plotly) {                    window.PLOTLYENV=window.PLOTLYENV || {};                                    if (document.getElementById(\"f3813766-03ea-4a50-bad9-c1903ae1f1be\")) {                    Plotly.newPlot(                        \"f3813766-03ea-4a50-bad9-c1903ae1f1be\",                        [{\"customdata\":[[\"Growling Grass Frog\",1.0],[\"Growling Grass Frog\",8.0],[\"Growling Grass Frog\",2.0],[\"Growling Grass Frog\",7.0],[\"Growling Grass Frog\",1.0],[\"Growling Grass Frog\",1.0],[\"Growling Grass Frog\",1.0],[\"Growling Grass Frog\",1.0],[\"Growling Grass Frog\",2.0],[\"Growling Grass Frog\",2.0],[\"Growling Grass Frog\",2.0],[\"Growling Grass Frog\",1.0],[\"Growling Grass Frog\",1.0],[\"Growling Grass Frog\",3.0],[\"Growling Grass Frog\",7.0],[\"Growling Grass Frog\",1.0],[\"Growling Grass Frog\",3.0],[\"Growling Grass Frog\",2.0],[\"Growling Grass Frog\",1.0],[\"Growling Grass Frog\",3.0],[\"Growling Grass Frog\",6.0],[\"Growling Grass Frog\",5.0],[\"Growling Grass Frog\",3.0],[\"Growling Grass Frog\",4.0],[\"Growling Grass Frog\",3.0],[\"Growling Grass Frog\",1.0],[\"Growling Grass Frog\",2.0],[\"Growling Grass Frog\",1.0],[\"Growling Grass Frog\",4.0],[\"Growling Grass Frog\",1.0],[\"Growling Grass Frog\",2.0],[\"Growling Grass Frog\",1.0],[\"Growling Grass Frog\",1.0],[\"Growling Grass Frog\",1.0],[\"Growling Grass Frog\",2.0],[\"Growling Grass Frog\",2.0],[\"Growling Grass Frog\",1.0],[\"Growling Grass Frog\",2.0],[\"Growling Grass Frog\",3.0],[\"Growling Grass Frog\",2.0],[\"Growling Grass Frog\",1.0],[\"Growling Grass Frog\",1.0],[\"Growling Grass Frog\",1.0],[\"Growling Grass Frog\",1.0],[\"Growling Grass Frog\",1.0],[\"Growling Grass Frog\",2.0],[\"Growling Grass Frog\",3.0],[\"Growling Grass Frog\",2.0],[\"Growling Grass Frog\",3.0],[\"Growling Grass Frog\",1.0],[\"Growling Grass Frog\",3.0],[\"Growling Grass Frog\",2.0],[\"Growling Grass Frog\",4.0],[\"Growling Grass Frog\",3.0],[\"Growling Grass Frog\",3.0],[\"Growling Grass Frog\",1.0],[\"Growling Grass Frog\",1.0],[\"Growling Grass Frog\",2.0],[\"Growling Grass Frog\",2.0],[\"Growling Grass Frog\",6.0],[\"Growling Grass Frog\",2.0],[\"Growling Grass Frog\",1.0],[\"Growling Grass Frog\",1.0],[\"Growling Grass Frog\",1.0],[\"Growling Grass Frog\",1.0],[\"Growling Grass Frog\",4.0],[\"Growling Grass Frog\",3.0],[\"Growling Grass Frog\",1.0],[\"Growling Grass Frog\",2.0],[\"Growling Grass Frog\",3.0],[\"Growling Grass Frog\",5.0],[\"Growling Grass Frog\",1.0],[\"Growling Grass Frog\",2.0],[\"Growling Grass Frog\",3.0],[\"Growling Grass Frog\",2.0],[\"Growling Grass Frog\",1.0],[\"Growling Grass Frog\",2.0],[\"Growling Grass Frog\",8.0],[\"Growling Grass Frog\",1.0],[\"Growling Grass Frog\",1.0],[\"Growling Grass Frog\",1.0],[\"Growling Grass Frog\",100.0],[\"Growling Grass Frog\",20.0],[\"Growling Grass Frog\",7.0],[\"Growling Grass Frog\",2.0],[\"Growling Grass Frog\",15.0],[\"Growling Grass Frog\",13.0],[\"Growling Grass Frog\",1.0],[\"Growling Grass Frog\",1.0],[\"Growling Grass Frog\",1.0],[\"Growling Grass Frog\",18.0],[\"Growling Grass Frog\",2.0],[\"Growling Grass Frog\",1.0],[\"Growling Grass Frog\",7.0],[\"Growling Grass Frog\",5.0],[\"Growling Grass Frog\",100.0],[\"Growling Grass Frog\",2.0],[\"Growling Grass Frog\",1.0],[\"Growling Grass Frog\",10.0],[\"Growling Grass Frog\",null],[\"Growling Grass Frog\",null],[\"Growling Grass Frog\",30.0],[\"Growling Grass Frog\",6.0],[\"Growling Grass Frog\",3.0],[\"Growling Grass Frog\",19.0],[\"Growling Grass Frog\",23.0],[\"Growling Grass Frog\",null]],\"hovertemplate\":\"<b>%{hovertext}</b><br><br>Latitude (GDA94)=%{lat}<br>Longitude ( GDA94)=%{lon}<br>Common Name=%{customdata[0]}<br>Total Count=%{marker.color}<extra></extra>\",\"hovertext\":[\"Growling Grass Frog\",\"Growling Grass Frog\",\"Growling Grass Frog\",\"Growling Grass Frog\",\"Growling Grass Frog\",\"Growling Grass Frog\",\"Growling Grass Frog\",\"Growling Grass Frog\",\"Growling Grass Frog\",\"Growling Grass Frog\",\"Growling Grass Frog\",\"Growling Grass Frog\",\"Growling Grass Frog\",\"Growling Grass Frog\",\"Growling Grass Frog\",\"Growling Grass Frog\",\"Growling Grass Frog\",\"Growling Grass Frog\",\"Growling Grass Frog\",\"Growling Grass Frog\",\"Growling Grass Frog\",\"Growling Grass Frog\",\"Growling Grass Frog\",\"Growling Grass Frog\",\"Growling Grass Frog\",\"Growling Grass Frog\",\"Growling Grass Frog\",\"Growling Grass Frog\",\"Growling Grass Frog\",\"Growling Grass Frog\",\"Growling Grass Frog\",\"Growling Grass Frog\",\"Growling Grass Frog\",\"Growling Grass Frog\",\"Growling Grass Frog\",\"Growling Grass Frog\",\"Growling Grass Frog\",\"Growling Grass Frog\",\"Growling Grass Frog\",\"Growling Grass Frog\",\"Growling Grass Frog\",\"Growling Grass Frog\",\"Growling Grass Frog\",\"Growling Grass Frog\",\"Growling Grass Frog\",\"Growling Grass Frog\",\"Growling Grass Frog\",\"Growling Grass Frog\",\"Growling Grass Frog\",\"Growling Grass Frog\",\"Growling Grass Frog\",\"Growling Grass Frog\",\"Growling Grass Frog\",\"Growling Grass Frog\",\"Growling Grass Frog\",\"Growling Grass Frog\",\"Growling Grass Frog\",\"Growling Grass Frog\",\"Growling Grass Frog\",\"Growling Grass Frog\",\"Growling Grass Frog\",\"Growling Grass Frog\",\"Growling Grass Frog\",\"Growling Grass Frog\",\"Growling Grass Frog\",\"Growling Grass Frog\",\"Growling Grass Frog\",\"Growling Grass Frog\",\"Growling Grass Frog\",\"Growling Grass Frog\",\"Growling Grass Frog\",\"Growling Grass Frog\",\"Growling Grass Frog\",\"Growling Grass Frog\",\"Growling Grass Frog\",\"Growling Grass Frog\",\"Growling Grass Frog\",\"Growling Grass Frog\",\"Growling Grass Frog\",\"Growling Grass Frog\",\"Growling Grass Frog\",\"Growling Grass Frog\",\"Growling Grass Frog\",\"Growling Grass Frog\",\"Growling Grass Frog\",\"Growling Grass Frog\",\"Growling Grass Frog\",\"Growling Grass Frog\",\"Growling Grass Frog\",\"Growling Grass Frog\",\"Growling Grass Frog\",\"Growling Grass Frog\",\"Growling Grass Frog\",\"Growling Grass Frog\",\"Growling Grass Frog\",\"Growling Grass Frog\",\"Growling Grass Frog\",\"Growling Grass Frog\",\"Growling Grass Frog\",\"Growling Grass Frog\",\"Growling Grass Frog\",\"Growling Grass Frog\",\"Growling Grass Frog\",\"Growling Grass Frog\",\"Growling Grass Frog\",\"Growling Grass Frog\",\"Growling Grass Frog\"],\"lat\":[-37.68247,-37.65269,-37.6525,-37.65236,-37.65202,-37.65166,-37.651,-37.65131,-37.65205,-37.65242,-37.65248,-37.65253,-37.65251,-37.65219,-37.65379,-37.65389,-37.65439,-37.65435,-37.65422,-37.65346,-37.65346,-37.65358,-37.65369,-37.65365,-37.65292,-37.65296,-37.65311,-37.65335,-37.65351,-37.65307,-37.65256,-37.65252,-37.6525,-37.65248,-37.65245,-37.6524,-37.65236,-37.65224,-37.6524,-37.65262,-37.6519,-37.65197,-37.65232,-37.65237,-37.65241,-37.65272,-37.65275,-37.65272,-37.65253,-37.6524,-37.65207,-37.65204,-37.65202,-37.65158,-37.65122,-37.65237,-37.65242,-37.65249,-37.65253,-37.65353,-37.65341,-37.65327,-37.65302,-37.65295,-37.65295,-37.65295,-37.65313,-37.65325,-37.65333,-37.65344,-37.6535,-37.65362,-37.65369,-37.65189,-37.6848,-37.685,-37.69405,-37.6825,-37.65203,-37.69964,-37.70779,-37.6555,-37.6555,-37.68277,-37.71296,-37.65381,-37.68548,-37.6809,-37.6892,-37.68259,-37.68245,-37.68328,-37.68328,-37.685,-37.685,-37.65282,-37.6853,-37.685,-37.68199,-37.65324,-37.65324,-37.68621,-37.65376,-37.65703,-37.65305,-37.66577,-37.68361],\"legendgroup\":\"\",\"lon\":[144.97444,145.00865,145.00862,145.00868,145.00898,145.00885,145.00811,145.00793,145.00735,145.00734,145.00744,145.00757,145.0078,145.00809,145.00793,145.00823,145.00849,145.00828,145.00802,145.0072,145.00734,145.00738,145.00738,145.0074,145.00717,145.00736,145.00756,145.00776,145.00772,145.00777,145.00763,145.0077,145.00778,145.00785,145.00793,145.00797,145.00803,145.00813,145.00826,145.00833,145.00747,145.00738,145.00735,145.00733,145.00736,145.00845,145.00857,145.00868,145.00867,145.00861,145.00903,145.00898,145.0089,145.00877,145.00871,145.00734,145.00735,145.00748,145.00756,145.00772,145.00772,145.00766,145.0075,145.00738,145.00736,145.00704,145.00702,145.007,145.007,145.00697,145.00735,145.00737,145.00741,145.00946,144.9605,144.9706,144.97737,144.97407,145.00999,144.98079,144.98016,145.00549,145.00549,144.9662,144.9926,144.98537,144.96009,144.97368,144.9614,144.97193,144.9712,144.97212,144.97212,144.97067,144.97067,145.00669,144.96056,144.97083,144.97303,144.97835,144.97835,144.97944,145.00894,145.00254,145.00094,144.9935,144.97861],\"marker\":{\"color\":[1.0,8.0,2.0,7.0,1.0,1.0,1.0,1.0,2.0,2.0,2.0,1.0,1.0,3.0,7.0,1.0,3.0,2.0,1.0,3.0,6.0,5.0,3.0,4.0,3.0,1.0,2.0,1.0,4.0,1.0,2.0,1.0,1.0,1.0,2.0,2.0,1.0,2.0,3.0,2.0,1.0,1.0,1.0,1.0,1.0,2.0,3.0,2.0,3.0,1.0,3.0,2.0,4.0,3.0,3.0,1.0,1.0,2.0,2.0,6.0,2.0,1.0,1.0,1.0,1.0,4.0,3.0,1.0,2.0,3.0,5.0,1.0,2.0,3.0,2.0,1.0,2.0,8.0,1.0,1.0,1.0,100.0,20.0,7.0,2.0,15.0,13.0,1.0,1.0,1.0,18.0,2.0,1.0,7.0,5.0,100.0,2.0,1.0,10.0,null,null,30.0,6.0,3.0,19.0,23.0,null],\"coloraxis\":\"coloraxis\"},\"mode\":\"markers\",\"name\":\"\",\"showlegend\":false,\"subplot\":\"mapbox\",\"type\":\"scattermapbox\"}],                        {\"template\":{\"data\":{\"histogram2dcontour\":[{\"type\":\"histogram2dcontour\",\"colorbar\":{\"outlinewidth\":0,\"ticks\":\"\"},\"colorscale\":[[0.0,\"#0d0887\"],[0.1111111111111111,\"#46039f\"],[0.2222222222222222,\"#7201a8\"],[0.3333333333333333,\"#9c179e\"],[0.4444444444444444,\"#bd3786\"],[0.5555555555555556,\"#d8576b\"],[0.6666666666666666,\"#ed7953\"],[0.7777777777777778,\"#fb9f3a\"],[0.8888888888888888,\"#fdca26\"],[1.0,\"#f0f921\"]]}],\"choropleth\":[{\"type\":\"choropleth\",\"colorbar\":{\"outlinewidth\":0,\"ticks\":\"\"}}],\"histogram2d\":[{\"type\":\"histogram2d\",\"colorbar\":{\"outlinewidth\":0,\"ticks\":\"\"},\"colorscale\":[[0.0,\"#0d0887\"],[0.1111111111111111,\"#46039f\"],[0.2222222222222222,\"#7201a8\"],[0.3333333333333333,\"#9c179e\"],[0.4444444444444444,\"#bd3786\"],[0.5555555555555556,\"#d8576b\"],[0.6666666666666666,\"#ed7953\"],[0.7777777777777778,\"#fb9f3a\"],[0.8888888888888888,\"#fdca26\"],[1.0,\"#f0f921\"]]}],\"heatmap\":[{\"type\":\"heatmap\",\"colorbar\":{\"outlinewidth\":0,\"ticks\":\"\"},\"colorscale\":[[0.0,\"#0d0887\"],[0.1111111111111111,\"#46039f\"],[0.2222222222222222,\"#7201a8\"],[0.3333333333333333,\"#9c179e\"],[0.4444444444444444,\"#bd3786\"],[0.5555555555555556,\"#d8576b\"],[0.6666666666666666,\"#ed7953\"],[0.7777777777777778,\"#fb9f3a\"],[0.8888888888888888,\"#fdca26\"],[1.0,\"#f0f921\"]]}],\"heatmapgl\":[{\"type\":\"heatmapgl\",\"colorbar\":{\"outlinewidth\":0,\"ticks\":\"\"},\"colorscale\":[[0.0,\"#0d0887\"],[0.1111111111111111,\"#46039f\"],[0.2222222222222222,\"#7201a8\"],[0.3333333333333333,\"#9c179e\"],[0.4444444444444444,\"#bd3786\"],[0.5555555555555556,\"#d8576b\"],[0.6666666666666666,\"#ed7953\"],[0.7777777777777778,\"#fb9f3a\"],[0.8888888888888888,\"#fdca26\"],[1.0,\"#f0f921\"]]}],\"contourcarpet\":[{\"type\":\"contourcarpet\",\"colorbar\":{\"outlinewidth\":0,\"ticks\":\"\"}}],\"contour\":[{\"type\":\"contour\",\"colorbar\":{\"outlinewidth\":0,\"ticks\":\"\"},\"colorscale\":[[0.0,\"#0d0887\"],[0.1111111111111111,\"#46039f\"],[0.2222222222222222,\"#7201a8\"],[0.3333333333333333,\"#9c179e\"],[0.4444444444444444,\"#bd3786\"],[0.5555555555555556,\"#d8576b\"],[0.6666666666666666,\"#ed7953\"],[0.7777777777777778,\"#fb9f3a\"],[0.8888888888888888,\"#fdca26\"],[1.0,\"#f0f921\"]]}],\"surface\":[{\"type\":\"surface\",\"colorbar\":{\"outlinewidth\":0,\"ticks\":\"\"},\"colorscale\":[[0.0,\"#0d0887\"],[0.1111111111111111,\"#46039f\"],[0.2222222222222222,\"#7201a8\"],[0.3333333333333333,\"#9c179e\"],[0.4444444444444444,\"#bd3786\"],[0.5555555555555556,\"#d8576b\"],[0.6666666666666666,\"#ed7953\"],[0.7777777777777778,\"#fb9f3a\"],[0.8888888888888888,\"#fdca26\"],[1.0,\"#f0f921\"]]}],\"mesh3d\":[{\"type\":\"mesh3d\",\"colorbar\":{\"outlinewidth\":0,\"ticks\":\"\"}}],\"scatter\":[{\"fillpattern\":{\"fillmode\":\"overlay\",\"size\":10,\"solidity\":0.2},\"type\":\"scatter\"}],\"parcoords\":[{\"type\":\"parcoords\",\"line\":{\"colorbar\":{\"outlinewidth\":0,\"ticks\":\"\"}}}],\"scatterpolargl\":[{\"type\":\"scatterpolargl\",\"marker\":{\"colorbar\":{\"outlinewidth\":0,\"ticks\":\"\"}}}],\"bar\":[{\"error_x\":{\"color\":\"#2a3f5f\"},\"error_y\":{\"color\":\"#2a3f5f\"},\"marker\":{\"line\":{\"color\":\"#E5ECF6\",\"width\":0.5},\"pattern\":{\"fillmode\":\"overlay\",\"size\":10,\"solidity\":0.2}},\"type\":\"bar\"}],\"scattergeo\":[{\"type\":\"scattergeo\",\"marker\":{\"colorbar\":{\"outlinewidth\":0,\"ticks\":\"\"}}}],\"scatterpolar\":[{\"type\":\"scatterpolar\",\"marker\":{\"colorbar\":{\"outlinewidth\":0,\"ticks\":\"\"}}}],\"histogram\":[{\"marker\":{\"pattern\":{\"fillmode\":\"overlay\",\"size\":10,\"solidity\":0.2}},\"type\":\"histogram\"}],\"scattergl\":[{\"type\":\"scattergl\",\"marker\":{\"colorbar\":{\"outlinewidth\":0,\"ticks\":\"\"}}}],\"scatter3d\":[{\"type\":\"scatter3d\",\"line\":{\"colorbar\":{\"outlinewidth\":0,\"ticks\":\"\"}},\"marker\":{\"colorbar\":{\"outlinewidth\":0,\"ticks\":\"\"}}}],\"scattermapbox\":[{\"type\":\"scattermapbox\",\"marker\":{\"colorbar\":{\"outlinewidth\":0,\"ticks\":\"\"}}}],\"scatterternary\":[{\"type\":\"scatterternary\",\"marker\":{\"colorbar\":{\"outlinewidth\":0,\"ticks\":\"\"}}}],\"scattercarpet\":[{\"type\":\"scattercarpet\",\"marker\":{\"colorbar\":{\"outlinewidth\":0,\"ticks\":\"\"}}}],\"carpet\":[{\"aaxis\":{\"endlinecolor\":\"#2a3f5f\",\"gridcolor\":\"white\",\"linecolor\":\"white\",\"minorgridcolor\":\"white\",\"startlinecolor\":\"#2a3f5f\"},\"baxis\":{\"endlinecolor\":\"#2a3f5f\",\"gridcolor\":\"white\",\"linecolor\":\"white\",\"minorgridcolor\":\"white\",\"startlinecolor\":\"#2a3f5f\"},\"type\":\"carpet\"}],\"table\":[{\"cells\":{\"fill\":{\"color\":\"#EBF0F8\"},\"line\":{\"color\":\"white\"}},\"header\":{\"fill\":{\"color\":\"#C8D4E3\"},\"line\":{\"color\":\"white\"}},\"type\":\"table\"}],\"barpolar\":[{\"marker\":{\"line\":{\"color\":\"#E5ECF6\",\"width\":0.5},\"pattern\":{\"fillmode\":\"overlay\",\"size\":10,\"solidity\":0.2}},\"type\":\"barpolar\"}],\"pie\":[{\"automargin\":true,\"type\":\"pie\"}]},\"layout\":{\"autotypenumbers\":\"strict\",\"colorway\":[\"#636efa\",\"#EF553B\",\"#00cc96\",\"#ab63fa\",\"#FFA15A\",\"#19d3f3\",\"#FF6692\",\"#B6E880\",\"#FF97FF\",\"#FECB52\"],\"font\":{\"color\":\"#2a3f5f\"},\"hovermode\":\"closest\",\"hoverlabel\":{\"align\":\"left\"},\"paper_bgcolor\":\"white\",\"plot_bgcolor\":\"#E5ECF6\",\"polar\":{\"bgcolor\":\"#E5ECF6\",\"angularaxis\":{\"gridcolor\":\"white\",\"linecolor\":\"white\",\"ticks\":\"\"},\"radialaxis\":{\"gridcolor\":\"white\",\"linecolor\":\"white\",\"ticks\":\"\"}},\"ternary\":{\"bgcolor\":\"#E5ECF6\",\"aaxis\":{\"gridcolor\":\"white\",\"linecolor\":\"white\",\"ticks\":\"\"},\"baxis\":{\"gridcolor\":\"white\",\"linecolor\":\"white\",\"ticks\":\"\"},\"caxis\":{\"gridcolor\":\"white\",\"linecolor\":\"white\",\"ticks\":\"\"}},\"coloraxis\":{\"colorbar\":{\"outlinewidth\":0,\"ticks\":\"\"}},\"colorscale\":{\"sequential\":[[0.0,\"#0d0887\"],[0.1111111111111111,\"#46039f\"],[0.2222222222222222,\"#7201a8\"],[0.3333333333333333,\"#9c179e\"],[0.4444444444444444,\"#bd3786\"],[0.5555555555555556,\"#d8576b\"],[0.6666666666666666,\"#ed7953\"],[0.7777777777777778,\"#fb9f3a\"],[0.8888888888888888,\"#fdca26\"],[1.0,\"#f0f921\"]],\"sequentialminus\":[[0.0,\"#0d0887\"],[0.1111111111111111,\"#46039f\"],[0.2222222222222222,\"#7201a8\"],[0.3333333333333333,\"#9c179e\"],[0.4444444444444444,\"#bd3786\"],[0.5555555555555556,\"#d8576b\"],[0.6666666666666666,\"#ed7953\"],[0.7777777777777778,\"#fb9f3a\"],[0.8888888888888888,\"#fdca26\"],[1.0,\"#f0f921\"]],\"diverging\":[[0,\"#8e0152\"],[0.1,\"#c51b7d\"],[0.2,\"#de77ae\"],[0.3,\"#f1b6da\"],[0.4,\"#fde0ef\"],[0.5,\"#f7f7f7\"],[0.6,\"#e6f5d0\"],[0.7,\"#b8e186\"],[0.8,\"#7fbc41\"],[0.9,\"#4d9221\"],[1,\"#276419\"]]},\"xaxis\":{\"gridcolor\":\"white\",\"linecolor\":\"white\",\"ticks\":\"\",\"title\":{\"standoff\":15},\"zerolinecolor\":\"white\",\"automargin\":true,\"zerolinewidth\":2},\"yaxis\":{\"gridcolor\":\"white\",\"linecolor\":\"white\",\"ticks\":\"\",\"title\":{\"standoff\":15},\"zerolinecolor\":\"white\",\"automargin\":true,\"zerolinewidth\":2},\"scene\":{\"xaxis\":{\"backgroundcolor\":\"#E5ECF6\",\"gridcolor\":\"white\",\"linecolor\":\"white\",\"showbackground\":true,\"ticks\":\"\",\"zerolinecolor\":\"white\",\"gridwidth\":2},\"yaxis\":{\"backgroundcolor\":\"#E5ECF6\",\"gridcolor\":\"white\",\"linecolor\":\"white\",\"showbackground\":true,\"ticks\":\"\",\"zerolinecolor\":\"white\",\"gridwidth\":2},\"zaxis\":{\"backgroundcolor\":\"#E5ECF6\",\"gridcolor\":\"white\",\"linecolor\":\"white\",\"showbackground\":true,\"ticks\":\"\",\"zerolinecolor\":\"white\",\"gridwidth\":2}},\"shapedefaults\":{\"line\":{\"color\":\"#2a3f5f\"}},\"annotationdefaults\":{\"arrowcolor\":\"#2a3f5f\",\"arrowhead\":0,\"arrowwidth\":1},\"geo\":{\"bgcolor\":\"white\",\"landcolor\":\"#E5ECF6\",\"subunitcolor\":\"white\",\"showland\":true,\"showlakes\":true,\"lakecolor\":\"white\"},\"title\":{\"x\":0.05},\"mapbox\":{\"style\":\"light\"}}},\"mapbox\":{\"domain\":{\"x\":[0.0,1.0],\"y\":[0.0,1.0]},\"center\":{\"lat\":-37.66044327102802,\"lon\":144.99918401869155},\"accesstoken\":\"geometry,Common Name,Scientific Name,VBA Taxon ID,Survey start date,Sampling method used,Type of observation,Total Count,Count Accuracy,Extra information,Location description,Longitude ( GDA94),Latitude (GDA94),Site accuracy (km radius around point),Collector(s),EPBC Act,FFG Act,International Treaty,Taxon Type,Taxa origin,Reliability of record,Publication date\\n\\\"X: 2497745.10142389, Y: 2424266.1283649, Z: NaN\\\",Growling Grass Frog,Litoria raniformis,13207,2020-06-12T00:00:00.0000000,General observations,Captured and released,1,Accurate,,\\\"Project Trawalla Avenue, Thomastown\\\",144.97444,-37.68247,0,Tanya White,Vulnerable,Vulnerable,,Amphibians,,Acceptable,18/10/2024\\n\\\"X: 2500762.81052242, Y: 2427571.07290213, Z: NaN\\\",Growling Grass Frog,Litoria raniformis,13207,2019-01-19T00:00:00.0000000,Frog census,Seen,8,Accurate,,Epping Pond 1 Cooper St Epping,145.00865,-37.65269,0,Matthew Le Feuvre,Vulnerable,Vulnerable,,Amphibians,,Acceptable,18/10/2024\\n\\\"X: 2500760.34186517, Y: 2427593.04720969, Z: NaN\\\",Growling Grass Frog,Litoria raniformis,13207,2019-01-19T00:00:00.0000000,Frog census,Seen,2,Accurate,,Epping Pond 1 Cooper St Epping,145.00862,-37.6525,0,Matthew Le Feuvre,Vulnerable,Vulnerable,,Amphibians,,Acceptable,18/10/2024\\n\\\"X: 2500765.63739824, Y: 2427608.02894662, Z: NaN\\\",Growling Grass Frog,Litoria raniformis,13207,2019-01-19T00:00:00.0000000,Frog census,Seen,7,Accurate,,Epping Pond 1 Cooper St Epping,145.00868,-37.65236,0,Matthew Le Feuvre,Vulnerable,Vulnerable,,Amphibians,,Acceptable,18/10/2024\\n\\\"X: 2500792.46511525, Y: 2427645.42689848, Z: NaN\\\",Growling Grass Frog,Litoria raniformis,13207,2019-01-19T00:00:00.0000000,Frog census,Seen,1,Accurate,,Epping Pond 1 Cooper St Epping,145.00898,-37.65202,0,Matthew Le Feuvre,Vulnerable,Vulnerable,,Amphibians,,Acceptable,18/10/2024\\n\\\"X: 2500781.26252919, Y: 2427685.71364591, Z: NaN\\\",Growling Grass Frog,Litoria raniformis,13207,2019-01-19T00:00:00.0000000,Frog census,Seen,1,Accurate,,Epping Pond 1 Cooper St Epping,145.00885,-37.65166,0,Matthew Le Feuvre,Vulnerable,Vulnerable,,Amphibians,,Acceptable,18/10/2024\\n\\\"X: 2500715.8838245, Y: 2427759.07736383, Z: NaN\\\",Growling Grass Frog,Litoria raniformis,13207,2019-01-19T00:00:00.0000000,Frog census,Seen,1,Accurate,,Epping Pond 1 Cooper St Epping,145.00811,-37.651,0,Matthew Le Feuvre,Vulnerable,Vulnerable,,Amphibians,,Acceptable,18/10/2024\\n\\\"X: 2500700.08618519, Y: 2427724.45288468, Z: NaN\\\",Growling Grass Frog,Litoria raniformis,13207,2019-01-19T00:00:00.0000000,Frog census,Seen,1,Accurate,,Epping Pond 1 Cooper St Epping,145.00793,-37.65131,0,Matthew Le Feuvre,Vulnerable,Vulnerable,,Amphibians,,Acceptable,18/10/2024\\n\\\"X: 2500648.37207963, Y: 2427642.44267975, Z: NaN\\\",Growling Grass Frog,Litoria raniformis,13207,2019-01-19T00:00:00.0000000,Frog census,Seen,2,Accurate,,Epping Pond 1 Cooper St Epping,145.00735,-37.65205,0,Matthew Le Feuvre,Vulnerable,Vulnerable,,Amphibians,,Acceptable,18/10/2024\\n\\\"X: 2500647.48654194, Y: 2427601.49094103, Z: NaN\\\",Growling Grass Frog,Litoria raniformis,13207,2019-01-19T00:00:00.0000000,Frog census,Seen,2,Accurate,,Epping Pond 1 Cooper St Epping,145.00734,-37.65242,0,Matthew Le Feuvre,Vulnerable,Vulnerable,,Amphibians,,Acceptable,18/10/2024\\n\\\"X: 2500656.30983502, Y: 2427594.27654232, Z: NaN\\\",Growling Grass Frog,Litoria raniformis,13207,2019-01-19T00:00:00.0000000,Frog census,Seen,2,Accurate,,Epping Pond 1 Cooper St Epping,145.00744,-37.65248,0,Matthew Le Feuvre,Vulnerable,Vulnerable,,Amphibians,,Acceptable,18/10/2024\\n\\\"X: 2500668.2215855, Y: 2427589.059533, Z: NaN\\\",Growling Grass Frog,Litoria raniformis,13207,2019-01-19T00:00:00.0000000,Frog census,Seen,1,Accurate,,Epping Pond 1 Cooper St Epping,145.00757,-37.65253,0,Matthew Le Feuvre,Vulnerable,Vulnerable,,Amphibians,,Acceptable,18/10/2024\\n\\\"X: 2500688.25163115, Y: 2427591.61057176, Z: NaN\\\",Growling Grass Frog,Litoria raniformis,13207,2019-01-19T00:00:00.0000000,Frog census,Seen,1,Accurate,,Epping Pond 1 Cooper St Epping,145.0078,-37.65251,0,Matthew Le Feuvre,Vulnerable,Vulnerable,,Amphibians,,Acceptable,18/10/2024\\n\\\"X: 2500714.01993514, Y: 2427627.12208843, Z: NaN\\\",Growling Grass Frog,Litoria raniformis,13207,2019-01-19T00:00:00.0000000,Frog census,Seen,3,Accurate,,Epping Pond 1 Cooper St Epping,145.00809,-37.65219,0,Matthew Le Feuvre,Vulnerable,Vulnerable,,Amphibians,,Acceptable,18/10/2024\\n\\\"X: 2500699.26983777, Y: 2427449.3328786, Z: NaN\\\",Growling Grass Frog,Litoria raniformis,13207,2019-01-19T00:00:00.0000000,Frog census,Seen,7,Accurate,,Epping Pond 3 Cooper St Epping,145.00793,-37.65379,0,Matthew Le Feuvre,Vulnerable,Vulnerable,,Amphibians,,Acceptable,18/10/2024\\n\\\"X: 2500726.00437436, Y: 2427437.78888421, Z: NaN\\\",Growling Grass Frog,Litoria raniformis,13207,2019-01-19T00:00:00.0000000,Frog census,Seen,1,Accurate,,Epping Pond 3 Cooper St Epping,145.00823,-37.65389,0,Matthew Le Feuvre,Vulnerable,Vulnerable,,Amphibians,,Acceptable,18/10/2024\\n\\\"X: 2500748.85263062, Y: 2427382.29662528, Z: NaN\\\",Growling Grass Frog,Litoria raniformis,13207,2019-01-19T00:00:00.0000000,Frog census,Seen,3,Accurate,,Epping Pond 3 Cooper St Epping,145.00849,-37.65439,0,Matthew Le Feuvre,Vulnerable,Vulnerable,,Amphibians,,Acceptable,18/10/2024\\n\\\"X: 2500730.94132125, Y: 2427387.73623735, Z: NaN\\\",Growling Grass Frog,Litoria raniformis,13207,2019-01-19T00:00:00.0000000,Frog census,Seen,2,Accurate,,Epping Pond 3 Cooper St Epping,145.00828,-37.65435,0,Matthew Le Feuvre,Vulnerable,Vulnerable,,Amphibians,,Acceptable,18/10/2024\\n\\\"X: 2500707.20711867, Y: 2427401.16677319, Z: NaN\\\",Growling Grass Frog,Litoria raniformis,13207,2019-01-19T00:00:00.0000000,Frog census,Seen,1,Accurate,,Epping Pond 3 Cooper St Epping,145.00802,-37.65422,0,Matthew Le Feuvre,Vulnerable,Vulnerable,,Amphibians,,Acceptable,18/10/2024\\n\\\"X: 2500635.0367189, Y: 2427485.73950639, Z: NaN\\\",Growling Grass Frog,Litoria raniformis,13207,2019-01-19T00:00:00.0000000,Frog census,Seen,3,Accurate,,Epping Pond 2 Cooper St Epping,145.0072,-37.65346,0,Matthew Le Feuvre,Vulnerable,Vulnerable,,Amphibians,,Acceptable,18/10/2024\\n\\\"X: 2500648.00737443, Y: 2427485.51666628, Z: NaN\\\",Growling Grass Frog,Litoria raniformis,13207,2019-01-19T00:00:00.0000000,Frog census,Seen,6,Accurate,,Epping Pond 2 Cooper St Epping,145.00734,-37.65346,0,Matthew Le Feuvre,Vulnerable,Vulnerable,,Amphibians,,Acceptable,18/10/2024\\n\\\"X: 2500650.74169038, Y: 2427472.42067339, Z: NaN\\\",Growling Grass Frog,Litoria raniformis,13207,2019-01-19T00:00:00.0000000,Frog census,Seen,5,Accurate,,Epping Pond 2 Cooper St Epping,145.00738,-37.65358,0,Matthew Le Feuvre,Vulnerable,Vulnerable,,Amphibians,,Acceptable,18/10/2024\\n\\\"X: 2500651.44673972, Y: 2427460.43486128, Z: NaN\\\",Growling Grass Frog,Litoria raniformis,13207,2019-01-19T00:00:00.0000000,Frog census,Seen,3,Accurate,,Epping Pond 2 Cooper St Epping,145.00738,-37.65369,0,Matthew Le Feuvre,Vulnerable,Vulnerable,,Amphibians,,Acceptable,18/10/2024\\n\\\"X: 2500652.59410149, Y: 2427465.31779288, Z: NaN\\\",Growling Grass Frog,Litoria raniformis,13207,2019-01-19T00:00:00.0000000,Frog census,Seen,4,Accurate,,Epping Pond 2 Cooper St Epping,145.0074,-37.65365,0,Matthew Le Feuvre,Vulnerable,Vulnerable,,Amphibians,,Acceptable,18/10/2024\\n\\\"X: 2500632.30581954, Y: 2427545.78002505, Z: NaN\\\",Growling Grass Frog,Litoria raniformis,13207,2019-01-19T00:00:00.0000000,Frog census,Seen,3,Accurate,,Epping Pond 2 Cooper St Epping,145.00717,-37.65292,0,Matthew Le Feuvre,Vulnerable,Vulnerable,,Amphibians,,Acceptable,18/10/2024\\n\\\"X: 2500649.1586828, Y: 2427541.45051041, Z: NaN\\\",Growling Grass Frog,Litoria raniformis,13207,2019-01-19T00:00:00.0000000,Frog census,Seen,1,Accurate,,Epping Pond 2 Cooper St Epping,145.00736,-37.65296,0,Matthew Le Feuvre,Vulnerable,Vulnerable,,Amphibians,,Acceptable,18/10/2024\\n\\\"X: 2500666.80478974, Y: 2427525.02416384, Z: NaN\\\",Growling Grass Frog,Litoria raniformis,13207,2019-01-19T00:00:00.0000000,Frog census,Seen,2,Accurate,,Epping Pond 2 Cooper St Epping,145.00756,-37.65311,0,Matthew Le Feuvre,Vulnerable,Vulnerable,,Amphibians,,Acceptable,18/10/2024\\n\\\"X: 2500684.27355651, Y: 2427497.72150729, Z: NaN\\\",Growling Grass Frog,Litoria raniformis,13207,2019-01-19T00:00:00.0000000,Frog census,Seen,1,Accurate,,Epping Pond 2 Cooper St Epping,145.00776,-37.65335,0,Matthew Le Feuvre,Vulnerable,Vulnerable,,Amphibians,,Acceptable,18/10/2024\\n\\\"X: 2500680.91918952, Y: 2427480.74180086, Z: NaN\\\",Growling Grass Frog,Litoria raniformis,13207,2019-01-19T00:00:00.0000000,Frog census,Seen,4,Accurate,,Epping Pond 2 Cooper St Epping,145.00772,-37.65351,0,Matthew Le Feuvre,Vulnerable,Vulnerable,,Amphibians,,Acceptable,18/10/2024\\n\\\"X: 2500685.9525736, Y: 2427529.6836812, Z: NaN\\\",Growling Grass Frog,Litoria raniformis,13207,2019-01-19T00:00:00.0000000,Frog census,Seen,1,Accurate,,Epping Pond 2 Cooper St Epping,145.00777,-37.65307,0,Matthew Le Feuvre,Vulnerable,Vulnerable,,Amphibians,,Acceptable,18/10/2024\\n\\\"X: 2500673.16263951, Y: 2427585.95169237, Z: NaN\\\",Growling Grass Frog,Litoria raniformis,13207,2019-02-05T00:00:00.0000000,Frog census,Seen,2,Accurate,,Epping Pond 1 Cooper St Epping,145.00763,-37.65256,0,Matthew Le Feuvre,Vulnerable,Vulnerable,,Amphibians,,Acceptable,18/10/2024\\n\\\"X: 2500679.25133509, Y: 2427590.83433185, Z: NaN\\\",Growling Grass Frog,Litoria raniformis,13207,2019-02-05T00:00:00.0000000,Frog census,Seen,1,Accurate,,Epping Pond 1 Cooper St Epping,145.0077,-37.65252,0,Matthew Le Feuvre,Vulnerable,Vulnerable,,Amphibians,,Acceptable,18/10/2024\\n\\\"X: 2500686.31049504, Y: 2427592.72042176, Z: NaN\\\",Growling Grass Frog,Litoria raniformis,13207,2019-02-05T00:00:00.0000000,Frog census,Seen,1,Accurate,,Epping Pond 1 Cooper St Epping,145.00778,-37.6525,0,Matthew Le Feuvre,Vulnerable,Vulnerable,,Amphibians,,Acceptable,18/10/2024\\n\\\"X: 2500692.31079766, Y: 2427594.49561285, Z: NaN\\\",Growling Grass Frog,Litoria raniformis,13207,2019-02-05T00:00:00.0000000,Frog census,Seen,1,Accurate,,Epping Pond 1 Cooper St Epping,145.00785,-37.65248,0,Matthew Le Feuvre,Vulnerable,Vulnerable,,Amphibians,,Acceptable,18/10/2024\\n\\\"X: 2500699.37012994, Y: 2427598.37933563, Z: NaN\\\",Growling Grass Frog,Litoria raniformis,13207,2019-02-05T00:00:00.0000000,Frog census,Seen,2,Accurate,,Epping Pond 1 Cooper St Epping,145.00793,-37.65245,0,Matthew Le Feuvre,Vulnerable,Vulnerable,,Amphibians,,Acceptable,18/10/2024\\n\\\"X: 2500703.51770854, Y: 2427603.26211871, Z: NaN\\\",Growling Grass Frog,Litoria raniformis,13207,2019-02-05T00:00:00.0000000,Frog census,Seen,2,Accurate,,Epping Pond 1 Cooper St Epping,145.00797,-37.6524,0,Matthew Le Feuvre,Vulnerable,Vulnerable,,Amphibians,,Acceptable,18/10/2024\\n\\\"X: 2500708.63590725, Y: 2427608.14481784, Z: NaN\\\",Growling Grass Frog,Litoria raniformis,13207,2019-02-05T00:00:00.0000000,Frog census,Seen,1,Accurate,,Epping Pond 1 Cooper St Epping,145.00803,-37.65236,0,Matthew Le Feuvre,Vulnerable,Vulnerable,,Amphibians,,Acceptable,18/10/2024\\n\\\"X: 2500716.93135489, Y: 2427621.01781818, Z: NaN\\\",Growling Grass Frog,Litoria raniformis,13207,2019-02-05T00:00:00.0000000,Frog census,Seen,2,Accurate,,Epping Pond 1 Cooper St Epping,145.00813,-37.65224,0,Matthew Le Feuvre,Vulnerable,Vulnerable,,Amphibians,,Acceptable,18/10/2024\\n\\\"X: 2500728.4889384, Y: 2427603.81489133, Z: NaN\\\",Growling Grass Frog,Litoria raniformis,13207,2019-02-05T00:00:00.0000000,Frog census,Seen,3,Accurate,,Epping Pond 1 Cooper St Epping,145.00826,-37.6524,0,Matthew Le Feuvre,Vulnerable,Vulnerable,,Amphibians,,Acceptable,18/10/2024\\n\\\"X: 2500735.01650017, Y: 2427579.6207463, Z: NaN\\\",Growling Grass Frog,Litoria raniformis,13207,2019-02-05T00:00:00.0000000,Frog census,Seen,2,Accurate,,Epping Pond 1 Cooper St Epping,145.00833,-37.65262,0,Matthew Le Feuvre,Vulnerable,Vulnerable,,Amphibians,,Acceptable,18/10/2024\\n\\\"X: 2500658.69726181, Y: 2427659.31086618, Z: NaN\\\",Growling Grass Frog,Litoria raniformis,13207,2019-02-05T00:00:00.0000000,Frog census,Seen,1,Accurate,,Epping Pond 1 Cooper St Epping,145.00747,-37.6519,0,Matthew Le Feuvre,Vulnerable,Vulnerable,,Amphibians,,Acceptable,18/10/2024\\n\\\"X: 2500651.54926076, Y: 2427651.4317189, Z: NaN\\\",Growling Grass Frog,Litoria raniformis,13207,2019-02-05T00:00:00.0000000,Frog census,Seen,1,Accurate,,Epping Pond 1 Cooper St Epping,145.00738,-37.65197,0,Matthew Le Feuvre,Vulnerable,Vulnerable,,Amphibians,,Acceptable,18/10/2024\\n\\\"X: 2500648.72271801, Y: 2427612.4778866, Z: NaN\\\",Growling Grass Frog,Litoria raniformis,13207,2019-02-05T00:00:00.0000000,Frog census,Seen,1,Accurate,,Epping Pond 1 Cooper St Epping,145.00735,-37.65232,0,Matthew Le Feuvre,Vulnerable,Vulnerable,,Amphibians,,Acceptable,18/10/2024\\n\\\"X: 2500646.60454952, Y: 2427606.48511854, Z: NaN\\\",Growling Grass Frog,Litoria raniformis,13207,2019-02-05T00:00:00.0000000,Frog census,Seen,1,Accurate,,Epping Pond 1 Cooper St Epping,145.00733,-37.65237,0,Matthew Le Feuvre,Vulnerable,Vulnerable,,Amphibians,,Acceptable,18/10/2024\\n\\\"X: 2500649.51617415, Y: 2427602.48960626, Z: NaN\\\",Growling Grass Frog,Litoria raniformis,13207,2019-02-05T00:00:00.0000000,Frog census,Seen,1,Accurate,,Epping Pond 1 Cooper St Epping,145.00736,-37.65241,0,Matthew Le Feuvre,Vulnerable,Vulnerable,,Amphibians,,Acceptable,18/10/2024\\n\\\"X: 2500745.78056275, Y: 2427568.41090593, Z: NaN\\\",Growling Grass Frog,Litoria raniformis,13207,2019-02-05T00:00:00.0000000,Frog census,Seen,2,Accurate,,Epping Pond 1 Cooper St Epping,145.00845,-37.65272,0,Matthew Le Feuvre,Vulnerable,Vulnerable,,Amphibians,,Acceptable,18/10/2024\\n\\\"X: 2500755.75100404, Y: 2427565.19158825, Z: NaN\\\",Growling Grass Frog,Litoria raniformis,13207,2019-02-05T00:00:00.0000000,Frog census,Seen,3,Accurate,,Epping Pond 1 Cooper St Epping,145.00857,-37.65275,0,Matthew Le Feuvre,Vulnerable,Vulnerable,,Amphibians,,Acceptable,18/10/2024\\n\\\"X: 2500765.81030955, Y: 2427567.96518287, Z: NaN\\\",Growling Grass Frog,Litoria raniformis,13207,2019-02-05T00:00:00.0000000,Frog census,Seen,2,Accurate,,Epping Pond 1 Cooper St Epping,145.00868,-37.65272,0,Matthew Le Feuvre,Vulnerable,Vulnerable,,Amphibians,,Acceptable,18/10/2024\\n\\\"X: 2500765.1945589, Y: 2427588.94050099, Z: NaN\\\",Growling Grass Frog,Litoria raniformis,13207,2019-02-05T00:00:00.0000000,Frog census,Seen,3,Accurate,,Epping Pond 1 Cooper St Epping,145.00867,-37.65253,0,Matthew Le Feuvre,Vulnerable,Vulnerable,,Amphibians,,Acceptable,18/10/2024\\n\\\"X: 2500759.54864206, Y: 2427604.14530293, Z: NaN\\\",Growling Grass Frog,Litoria raniformis,13207,2019-02-05T00:00:00.0000000,Frog census,Seen,1,Accurate,,Epping Pond 1 Cooper St Epping,145.00861,-37.6524,0,Matthew Le Feuvre,Vulnerable,Vulnerable,,Amphibians,,Acceptable,18/10/2024\\n\\\"X: 2500796.3471097, Y: 2427640.32133125, Z: NaN\\\",Growling Grass Frog,Litoria raniformis,13207,2019-02-05T00:00:00.0000000,Frog census,Seen,3,Accurate,,Epping Pond 1 Cooper St Epping,145.00903,-37.65207,0,Matthew Le Feuvre,Vulnerable,Vulnerable,,Amphibians,,Acceptable,18/10/2024\\n\\\"X: 2500792.37668866, Y: 2427643.42915228, Z: NaN\\\",Growling Grass Frog,Litoria raniformis,13207,2019-02-05T00:00:00.0000000,Frog census,Seen,2,Accurate,,Epping Pond 1 Cooper St Epping,145.00898,-37.65204,0,Matthew Le Feuvre,Vulnerable,Vulnerable,,Amphibians,,Acceptable,18/10/2024\\n\\\"X: 2500785.40616218, Y: 2427645.53843066, Z: NaN\\\",Growling Grass Frog,Litoria raniformis,13207,2019-02-05T00:00:00.0000000,Frog census,Seen,4,Accurate,,Epping Pond 1 Cooper St Epping,145.0089,-37.65202,0,Matthew Le Feuvre,Vulnerable,Vulnerable,,Amphibians,,Acceptable,18/10/2024\\n\\\"X: 2500773.49828482, Y: 2427694.81473927, Z: NaN\\\",Growling Grass Frog,Litoria raniformis,13207,2019-02-05T00:00:00.0000000,Frog census,Seen,3,Accurate,,Epping Pond 1 Cooper St Epping,145.00877,-37.65158,0,Matthew Le Feuvre,Vulnerable,Vulnerable,,Amphibians,,Acceptable,18/10/2024\\n\\\"X: 2500768.29587798, Y: 2427734.99003898, Z: NaN\\\",Growling Grass Frog,Litoria raniformis,13207,2019-02-05T00:00:00.0000000,Frog census,Seen,3,Accurate,,Epping Pond 1 Cooper St Epping,145.00871,-37.65122,0,Matthew Le Feuvre,Vulnerable,Vulnerable,,Amphibians,,Acceptable,18/10/2024\\n\\\"X: 2500647.57525286, Y: 2427606.48504376, Z: NaN\\\",Growling Grass Frog,Litoria raniformis,13207,2019-02-05T00:00:00.0000000,Frog census,Seen,1,Accurate,,Epping Pond 1 Cooper St Epping,145.00734,-37.65237,0,Matthew Le Feuvre,Vulnerable,Vulnerable,,Amphibians,,Acceptable,18/10/2024\\n\\\"X: 2500648.45715648, Y: 2427601.49097714, Z: NaN\\\",Growling Grass Frog,Litoria raniformis,13207,2019-02-05T00:00:00.0000000,Frog census,Seen,1,Accurate,,Epping Pond 1 Cooper St Epping,145.00735,-37.65242,0,Matthew Le Feuvre,Vulnerable,Vulnerable,,Amphibians,,Acceptable,18/10/2024\\n\\\"X: 2500660.2804489, Y: 2427593.27740921, Z: NaN\\\",Growling Grass Frog,Litoria raniformis,13207,2019-02-05T00:00:00.0000000,Frog census,Seen,2,Accurate,,Epping Pond 1 Cooper St Epping,145.00748,-37.65249,0,Matthew Le Feuvre,Vulnerable,Vulnerable,,Amphibians,,Acceptable,18/10/2024\\n\\\"X: 2500667.25097241, Y: 2427589.05961015, Z: NaN\\\",Growling Grass Frog,Litoria raniformis,13207,2019-02-05T00:00:00.0000000,Frog census,Seen,2,Accurate,,Epping Pond 1 Cooper St Epping,145.00756,-37.65253,0,Matthew Le Feuvre,Vulnerable,Vulnerable,,Amphibians,,Acceptable,18/10/2024\\n\\\"X: 2500680.83071024, Y: 2427477.74534104, Z: NaN\\\",Growling Grass Frog,Litoria raniformis,13207,2019-02-05T00:00:00.0000000,Frog census,Seen,6,Accurate,,Epping Pond 2 Cooper St Epping,145.00772,-37.65353,0,Matthew Le Feuvre,Vulnerable,Vulnerable,,Amphibians,,Acceptable,18/10/2024\\n\\\"X: 2500681.0965532, Y: 2427491.72883183, Z: NaN\\\",Growling Grass Frog,Litoria raniformis,13207,2019-02-05T00:00:00.0000000,Frog census,Seen,2,Accurate,,Epping Pond 2 Cooper St Epping,145.00772,-37.65341,0,Matthew Le Feuvre,Vulnerable,Vulnerable,,Amphibians,,Acceptable,18/10/2024\\n\\\"X: 2500675.45063774, Y: 2427506.93358214, Z: NaN\\\",Growling Grass Frog,Litoria raniformis,13207,2019-02-05T00:00:00.0000000,Frog census,Seen,1,Accurate,,Epping Pond 2 Cooper St Epping,145.00766,-37.65327,0,Matthew Le Feuvre,Vulnerable,Vulnerable,,Amphibians,,Acceptable,18/10/2024\\n\\\"X: 2500662.04080284, Y: 2427535.23461175, Z: NaN\\\",Growling Grass Frog,Litoria raniformis,13207,2019-02-05T00:00:00.0000000,Frog census,Seen,1,Accurate,,Epping Pond 2 Cooper St Epping,145.0075,-37.65302,0,Matthew Le Feuvre,Vulnerable,Vulnerable,,Amphibians,,Acceptable,18/10/2024\\n\\\"X: 2500651.18821246, Y: 2427542.44917544, Z: NaN\\\",Growling Grass Frog,Litoria raniformis,13207,2019-02-05T00:00:00.0000000,Frog census,Seen,1,Accurate,,Epping Pond 2 Cooper St Epping,145.00738,-37.65295,0,Matthew Le Feuvre,Vulnerable,Vulnerable,,Amphibians,,Acceptable,18/10/2024\\n\\\"X: 2500649.24699705, Y: 2427542.4493257, Z: NaN\\\",Growling Grass Frog,Litoria raniformis,13207,2019-02-05T00:00:00.0000000,Frog census,Seen,1,Accurate,,Epping Pond 2 Cooper St Epping,145.00736,-37.65295,0,Matthew Le Feuvre,Vulnerable,Vulnerable,,Amphibians,,Acceptable,18/10/2024\\n\\\"X: 2500621.18756338, Y: 2427543.00634873, Z: NaN\\\",Growling Grass Frog,Litoria raniformis,13207,2019-02-05T00:00:00.0000000,Frog census,Seen,4,Accurate,,Epping Pond 2 Cooper St Epping,145.00704,-37.65295,0,Matthew Le Feuvre,Vulnerable,Vulnerable,,Amphibians,,Acceptable,18/10/2024\\n\\\"X: 2500619.77447284, Y: 2427523.03001012, Z: NaN\\\",Growling Grass Frog,Litoria raniformis,13207,2019-02-05T00:00:00.0000000,Frog census,Seen,3,Accurate,,Epping Pond 2 Cooper St Epping,145.00702,-37.65313,0,Matthew Le Feuvre,Vulnerable,Vulnerable,,Amphibians,,Acceptable,18/10/2024\\n\\\"X: 2500617.47929474, Y: 2427509.15764851, Z: NaN\\\",Growling Grass Frog,Litoria raniformis,13207,2019-02-05T00:00:00.0000000,Frog census,Seen,1,Accurate,,Epping Pond 2 Cooper St Epping,145.007,-37.65325,0,Matthew Le Feuvre,Vulnerable,Vulnerable,,Amphibians,,Acceptable,18/10/2024\\n\\\"X: 2500617.30216071, Y: 2427500.16837232, Z: NaN\\\",Growling Grass Frog,Litoria raniformis,13207,2019-02-05T00:00:00.0000000,Frog census,Seen,2,Accurate,,Epping Pond 2 Cooper St Epping,145.007,-37.65333,0,Matthew Le Feuvre,Vulnerable,Vulnerable,,Amphibians,,Acceptable,18/10/2024\\n\\\"X: 2500615.00721928, Y: 2427488.18267332, Z: NaN\\\",Growling Grass Frog,Litoria raniformis,13207,2019-02-05T00:00:00.0000000,Frog census,Seen,3,Accurate,,Epping Pond 2 Cooper St Epping,145.00697,-37.65344,0,Matthew Le Feuvre,Vulnerable,Vulnerable,,Amphibians,,Acceptable,18/10/2024\\n\\\"X: 2500648.88951013, Y: 2427481.41021769, Z: NaN\\\",Growling Grass Frog,Litoria raniformis,13207,2019-02-05T00:00:00.0000000,Frog census,Seen,5,Accurate,,Epping Pond 2 Cooper St Epping,145.00735,-37.6535,0,Matthew Le Feuvre,Vulnerable,Vulnerable,,Amphibians,,Acceptable,18/10/2024\\n\\\"X: 2500650.65323282, Y: 2427468.42539081, Z: NaN\\\",Growling Grass Frog,Litoria raniformis,13207,2019-02-05T00:00:00.0000000,Frog census,Seen,1,Accurate,,Epping Pond 2 Cooper St Epping,145.00737,-37.65362,0,Matthew Le Feuvre,Vulnerable,Vulnerable,,Amphibians,,Acceptable,18/10/2024\\n\\\"X: 2500653.47616375, Y: 2427460.32361239, Z: NaN\\\",Growling Grass Frog,Litoria raniformis,13207,2019-02-05T00:00:00.0000000,Frog census,Seen,2,Accurate,,Epping Pond 2 Cooper St Epping,145.00741,-37.65369,0,Matthew Le Feuvre,Vulnerable,Vulnerable,,Amphibians,,Acceptable,18/10/2024\\n\\\"X: 2500834.732687, Y: 2427660.51611121, Z: NaN\\\",Growling Grass Frog,Litoria raniformis,13207,2019-02-05T00:00:00.0000000,Frog census,Seen,3,Accurate,,Epping Pond 12 Cooper St Epping,145.00946,-37.65189,0,Matthew Le Feuvre,Vulnerable,Vulnerable,,Amphibians,,Acceptable,18/10/2024\\n\\\"X: 2496516.10306346, Y: 2424007.12146123, Z: NaN\\\",Growling Grass Frog,Litoria raniformis,13207,2012-02-16T00:00:00.0000000,Frog transect,Seen,2,,,\\\"Bolinda Quarry Bolinda Rd Quarry, Campbellfield\\\",144.9605,-37.6848,0,Cristina Del Borrello,Vulnerable,Vulnerable,,Amphibians,,Acceptable,18/10/2024\\n\\\"X: 2497406.93044922, Y: 2423985.2476224, Z: NaN\\\",Growling Grass Frog,Litoria raniformis,13207,2012-02-16T00:00:00.0000000,Frog transect,Seen,1,,,\\\"Bolinda Quarry Bolinda Rd Quarry, Campbellfield\\\",144.9706,-37.685,0,Cristina Del Borrello,Vulnerable,Vulnerable,,Amphibians,,Acceptable,18/10/2024\\n\\\"X: 2498004.45529791, Y: 2422981.58113418, Z: NaN\\\",Growling Grass Frog,Litoria raniformis,13207,2019-12-31T00:00:00.0000000,General observations,Seen,2,Accurate,,\\\"2-3 Hamersley Court, Fawkner Victoria 3060, Australia 2-3 Hamersley Court, Fawkner Victoria 3060, Australia\\\",144.97737,-37.69405,0,Tristan Best,Vulnerable,Vulnerable,,Amphibians,,Confirmed,18/10/2024\\n\\\"X: 2497712.73195609, Y: 2424263.12311058, Z: NaN\\\",Growling Grass Frog,Litoria raniformis,13207,2021-03-23T00:00:00.0000000,General observations,Seen,8,Accurate,,\\\"24 Horne Street, Thomastown Victoria 3074, Australia 24 Horne Street, Thomastown Victoria 3074, Australia\\\",144.97407,-37.6825,0,Tanya White,Vulnerable,Vulnerable,,Amphibians,,Acceptable,18/10/2024\\n\\\"X: 2500881.40889675, Y: 2427644.53019524, Z: NaN\\\",Growling Grass Frog,Litoria raniformis,13207,2019-02-05T00:00:00.0000000,Frog census,Heard,1,Accurate,,Epping Pond 12 Cooper St Epping,145.00999,-37.65203,0,Matthew Le Feuvre,Vulnerable,Vulnerable,,Amphibians,,Acceptable,18/10/2024\\n\\\"X: 2498306.01152982, Y: 2422360.48078384, Z: NaN\\\",Growling Grass Frog,Litoria raniformis,13207,2020-11-19T00:00:00.0000000,General observations,Seen,1,Accurate,,\\\"16 Mia Close, Reservoir Victoria 3073, Australia 16 Mia Close, Reservoir Victoria 3073, Australia\\\",144.98079,-37.69964,0,Tristan Best,Vulnerable,Vulnerable,,Amphibians,,Acceptable,18/10/2024\\n\\\"X: 2498250.55769685, Y: 2421456.73997613, Z: NaN\\\",Growling Grass Frog,Litoria raniformis,13207,2019-01-21T00:00:00.0000000,General observations,Seen,1,Accurate,,\\\"13a Brex Court, Reservoir Victoria 3073, Australia 13a Brex Court, Reservoir Victoria 3073, Australia\\\",144.98016,-37.70779,0,Tristan Best,Vulnerable,Vulnerable,,Amphibians,,Acceptable,18/10/2024\\n\\\"X: 2500484.40455305, Y: 2427259.57169647, Z: NaN\\\",Growling Grass Frog,Litoria raniformis,13207,2000-10-31T00:00:00.0000000,Incidental,Heard,100,Estimate (range),,Epping Waste Disposal Land Near Edgars Ck Epping,145.00549,-37.6555,0,Sally Koehler,Vulnerable,Vulnerable,,Amphibians,,Acceptable,18/10/2024\\n\\\"X: 2500484.40455305, Y: 2427259.57169647, Z: NaN\\\",Growling Grass Frog,Litoria raniformis,13207,2000-10-31T00:00:00.0000000,Incidental,Seen,20,Accurate,,Epping Waste Disposal Land Near Edgars Ck Epping,145.00549,-37.6555,0,Sally Koehler,Vulnerable,Vulnerable,,Amphibians,,Acceptable,18/10/2024\\n\\\"X: 2497018.76443793, Y: 2424232.60745957, Z: NaN\\\",Growling Grass Frog,Litoria raniformis,13207,2003-02-25T00:00:00.0000000,General observations,Observation,7,Accurate,,\\\"NRT quarry: Bolinda Rd., Campbellfield, Victoria. NRTCAMP1\\\",144.9662,-37.68277,0,Lawrie Conole,Vulnerable,Vulnerable,,Amphibians,,Acceptable,18/10/2024\\n\\\"X: 2499347.56313825, Y: 2420882.56177198, Z: NaN\\\",Growling Grass Frog,Litoria raniformis,13207,1992-03-03T00:00:00.0000000,Incidental,Observation,2,Accurate,,ROUGHLY 2 KM W OF KEON PARK TECHNICAL SCHOO,144.9926,-37.71296,0,Cam Beardsell,Vulnerable,Vulnerable,,Amphibians,,Acceptable,18/10/2024\\n\\\"X: 2498709.10701807, Y: 2427447.04329992, Z: NaN\\\",Growling Grass Frog,Litoria raniformis,13207,2001-12-21T00:00:00.0000000,General observations,Seen,15,Accurate,,Former Quarry: Campbellfield,144.98537,-37.65381,0,Geoffrey Heard,Vulnerable,Vulnerable,,Amphibians,,Acceptable,18/10/2024\\n\\\"X: 2496479.97255404, Y: 2423931.63891946, Z: NaN\\\",Growling Grass Frog,Litoria raniformis,13207,2003-03-27T00:00:00.0000000,General observations,Seen,13,Accurate,,Nubrik Clay Quarry: Campbellfield,144.96009,-37.68548,0,Geoffrey Heard,Vulnerable,Vulnerable,,Amphibians,,Acceptable,18/10/2024\\n\\\"X: 2497678.46060424, Y: 2424440.35104601, Z: NaN\\\",Growling Grass Frog,Litoria raniformis,13207,2009-03-26T00:00:00.0000000,General observations,Seen,1,,,Merri Ck Merri Creek near 54a Somerset Rd Campbellfield,144.97368,-37.6809,0,Cristina Del Borrello,Vulnerable,Vulnerable,,Amphibians,,Acceptable,18/10/2024\\n\\\"X: 2496595.68055313, Y: 2423518.8349296, Z: NaN\\\",Growling Grass Frog,Litoria raniformis,13207,2011-11-10T00:00:00.0000000,Incidental,Observation,1,,,North Melbourne Crn Hume Hwy & Mahoney's Rd,144.9614,-37.6892,0,Ray Draper,Vulnerable,Vulnerable,,Amphibians,,Acceptable,18/10/2024\\n\\\"X: 2497524.51064614, Y: 2424252.63758394, Z: NaN\\\",Growling Grass Frog,Litoria raniformis,13207,2016-02-08T00:00:00.0000000,Frog census,Observation,1,Accurate,,GT_1A Galada Tamboore,144.97193,-37.68259,0,Jake Urlus,Vulnerable,Vulnerable,,Amphibians,,Acceptable,18/10/2024\\n\\\"X: 2497459.85354157, Y: 2424268.04469682, Z: NaN\\\",Growling Grass Frog,Litoria raniformis,13207,2016-02-08T00:00:00.0000000,Frog census,Observation,18,Accurate,,GT_1B Galada Tamboore,144.9712,-37.68245,0,Jake Urlus,Vulnerable,Vulnerable,,Amphibians,,Acceptable,18/10/2024\\n\\\"X: 2497540.93849732, Y: 2424176.28704148, Z: NaN\\\",Growling Grass Frog,Litoria raniformis,13207,2016-02-11T00:00:00.0000000,Frog census,Observation,2,Accurate,,GT_2 Galada Tamboore,144.97212,-37.68328,0,Jake Urlus,Vulnerable,Vulnerable,,Amphibians,,Acceptable,18/10/2024\\n\\\"X: 2497540.93849732, Y: 2424176.28704148, Z: NaN\\\",Growling Grass Frog,Litoria raniformis,13207,2016-02-08T00:00:00.0000000,Frog census,Observation,1,Accurate,,GT_2 Galada Tamboore,144.97212,-37.68328,0,Jake Urlus,Vulnerable,Vulnerable,,Amphibians,,Acceptable,18/10/2024\\n\\\"X: 2497412.84001983, Y: 2423984.91650063, Z: NaN\\\",Growling Grass Frog,Litoria raniformis,13207,2016-01-11T00:00:00.0000000,Frog census,Observation,7,Accurate,,GT_3 Galada Tamboore,144.97067,-37.685,0,Jake Urlus,Vulnerable,Vulnerable,,Amphibians,,Acceptable,18/10/2024\\n\\\"X: 2497412.84001983, Y: 2423984.91650063, Z: NaN\\\",Growling Grass Frog,Litoria raniformis,13207,2016-02-08T00:00:00.0000000,Frog census,Observation,5,Accurate,,GT_3 Galada Tamboore,144.97067,-37.685,0,Jake Urlus,Vulnerable,Vulnerable,,Amphibians,,Acceptable,18/10/2024\\n\\\"X: 2500590.30557148, Y: 2427556.99208496, Z: NaN\\\",Growling Grass Frog,Litoria raniformis,13207,2001-07-31T00:00:00.0000000,Incidental,Heard,100,Estimate (range),,Epping Waste Disposal Near Edgars Ck Epping,145.00669,-37.65282,0,Sally Koehler,Vulnerable,Vulnerable,,Amphibians,,Acceptable,18/10/2024\\n\\\"X: 2496521.41795994, Y: 2423951.63298885, Z: NaN\\\",Growling Grass Frog,Litoria raniformis,13207,2012-02-07T00:00:00.0000000,Frog transect,Seen,2,,,\\\"Bolinda Quarry Bolinda Road Quarry, Campbellfield\\\",144.96056,-37.6853,0,Cristina Del Borrello,Vulnerable,Vulnerable,,Amphibians,,Acceptable,18/10/2024\\n\\\"X: 2497427.21637998, Y: 2423985.25375168, Z: NaN\\\",Growling Grass Frog,Litoria raniformis,13207,2012-02-16T00:00:00.0000000,Frog transect,Seen,1,,,Bolinda Quarry Sediment pond adjacent to Merri Creek,144.97083,-37.685,0,Cristina Del Borrello,Vulnerable,Vulnerable,,Amphibians,,Acceptable,18/10/2024\\n\\\"X: 2497621.16178683, Y: 2424319.36526379, Z: NaN\\\",Growling Grass Frog,Litoria raniformis,13207,1986-12-02T00:00:00.0000000,Incidental,Observation,10,Accurate,,ROUGHLY 2 KM S OF CAMPBELLFIELD,144.97303,-37.68199,0,Cam Beardsell,Vulnerable,Vulnerable,,Amphibians,,Acceptable,18/10/2024\\n\\\"X: 2498089.67645034, Y: 2427510.18401837, Z: NaN\\\",Growling Grass Frog,Litoria raniformis,13207,1989-08-15T00:00:00.0000000,Incidental,Observation,,Present not counted,,ROUGHLY 2 KM N OF CAMPBELLFIELD,144.97835,-37.65324,0,Tom Lowe,Vulnerable,Vulnerable,,Amphibians,,Acceptable,18/10/2024\\n\\\"X: 2498089.67645034, Y: 2427510.18401837, Z: NaN\\\",Growling Grass Frog,Litoria raniformis,13207,1990-01-31T00:00:00.0000000,Incidental,Observation,,Present not counted,,ROUGHLY 2 KM N OF CAMPBELLFIELD,144.97835,-37.65324,0,Cam Beardsell,Vulnerable,Vulnerable,,Amphibians,,Acceptable,18/10/2024\\n\\\"X: 2498186.64444527, Y: 2423851.1646007, Z: NaN\\\",Growling Grass Frog,Litoria raniformis,13207,2004-11-25T00:00:00.0000000,General observations,Seen,30,Accurate,,Boral Clay Quarry: Campbellfield,144.97944,-37.68621,0,Geoffrey Heard,Vulnerable,Vulnerable,,Amphibians,,Acceptable,18/10/2024\\n\\\"X: 2500788.82968968, Y: 2427452.65457574, Z: NaN\\\",Growling Grass Frog,Litoria raniformis,13207,2001-12-05T00:00:00.0000000,Incidental,Observation,6,Accurate,,Edgars Road Quarry,145.00894,-37.65376,1,Aaron Organ,Vulnerable,Vulnerable,,Amphibians,,Acceptable,18/10/2024\\n\\\"X: 2500224.37978124, Y: 2427089.37373699, Z: NaN\\\",Growling Grass Frog,Litoria raniformis,13207,2014-03-12T00:00:00.0000000,Spotlighting,Heard,3,Accurate,,Hume Fwy and Cooper St Epping,145.00254,-37.65703,0,Kailash Willis,Vulnerable,Vulnerable,,Amphibians,,Acceptable,18/10/2024\\n\\\"X: 2500082.94167338, Y: 2427531.48696282, Z: NaN\\\",Growling Grass Frog,Litoria raniformis,13207,2005-01-24T00:00:00.0000000,Frog census,Seen,19,Accurate,,Melbourne Wholesale Markets proposed site. 295-315 Cooper st. Epping,145.00094,-37.65305,0,Ecology Australia,Vulnerable,Vulnerable,,Amphibians,,Acceptable,18/10/2024\\n\\\"X: 2499426.55762746, Y: 2426119.79583677, Z: NaN\\\",Growling Grass Frog,Litoria raniformis,13207,2005-03-14T00:00:00.0000000,Frog census,Seen,23,Accurate,,\\\"Former Epping Waste Disposal Site, Cooper St.\\\",144.9935,-37.66577,0,Ecology Australia,Vulnerable,Vulnerable,,Amphibians,,Acceptable,18/10/2024\\n\\\"X: 2498113.46387485, Y: 2424139.58944399, Z: NaN\\\",Growling Grass Frog,Litoria raniformis,13207,2020-10-28T00:00:00.0000000,Targeted search,Observation,,Present not counted,,\\\"2 Trawalla Avenue, Thomastown 2.1km south-east of Campbellfield\\\",144.97861,-37.68361,0,Guillermo Mayor,Vulnerable,Vulnerable,,Amphibians,,Acceptable,18/10/2024\\n\",\"zoom\":13,\"style\":\"open-street-map\"},\"coloraxis\":{\"colorbar\":{\"title\":{\"text\":\"Total Count\"}},\"colorscale\":[[0,\"green\"],[1,\"blue\"]]},\"legend\":{\"tracegroupgap\":0},\"margin\":{\"t\":0,\"r\":0,\"l\":0,\"b\":0},\"height\":800,\"width\":800},                        {\"responsive\": true}                    ).then(function(){\n",
       "                            \n",
       "var gd = document.getElementById('f3813766-03ea-4a50-bad9-c1903ae1f1be');\n",
       "var x = new MutationObserver(function (mutations, observer) {{\n",
       "        var display = window.getComputedStyle(gd).display;\n",
       "        if (!display || display === 'none') {{\n",
       "            console.log([gd, 'removed!']);\n",
       "            Plotly.purge(gd);\n",
       "            observer.disconnect();\n",
       "        }}\n",
       "}});\n",
       "\n",
       "// Listen for the removal of the full notebook cells\n",
       "var notebookContainer = gd.closest('#notebook-container');\n",
       "if (notebookContainer) {{\n",
       "    x.observe(notebookContainer, {childList: true});\n",
       "}}\n",
       "\n",
       "// Listen for the clearing of the current output cell\n",
       "var outputEl = gd.closest('.output');\n",
       "if (outputEl) {{\n",
       "    x.observe(outputEl, {childList: true});\n",
       "}}\n",
       "\n",
       "                        })                };                });            </script>        </div>"
      ]
     },
     "metadata": {},
     "output_type": "display_data"
    }
   ],
   "source": [
    "import plotly.express as px\n",
    "import pandas as pd\n",
    "\n",
    "df = pd.read_csv('C:/Users/edada/Desktop/Export/Threatened Non-sensitive Species.csv')\n",
    "color_scale = [(0, 'green'), (1,'blue')]\n",
    "\n",
    "fig = px.scatter_mapbox(df,\n",
    "                        lat=\"Latitude (GDA94)\", \n",
    "                        lon=\"Longitude ( GDA94)\", \n",
    "                        hover_name=\"Common Name\", \n",
    "                        hover_data=[\"Common Name\", \"Total Count\"],\n",
    "                        color=\"Total Count\",\n",
    "                        color_continuous_scale=color_scale,\n",
    "                        #size=5,\n",
    "                        zoom=12, \n",
    "                        height=800,\n",
    "                        width=800)\n",
    "\n",
    "\n",
    "fig = px.scatter_mapbox(df,\n",
    "                        lat=\"Latitude (GDA94)\", \n",
    "                        lon=\"Longitude ( GDA94)\", \n",
    "                        hover_name=\"Common Name\", \n",
    "                        hover_data=[\"Common Name\", \"Total Count\"],\n",
    "                        color=\"Total Count\",\n",
    "                        color_continuous_scale=color_scale,\n",
    "                        #size=5,\n",
    "                        zoom=13, \n",
    "                        height=800,\n",
    "                        width=800)\n",
    "\n",
    "fig.update_layout(mapbox_style=\"open-street-map\")\n",
    "fig.update_layout(margin={\"r\":0,\"t\":0,\"l\":0,\"b\":0})\n",
    "#fig.update_geos(center=[-37, 145], projection=\"natural earth\", visible=True)\n",
    "\n",
    "fig.show()"
   ]
  }
 ],
 "metadata": {
  "kernelspec": {
   "display_name": "Python 3 (ipykernel)",
   "language": "python",
   "name": "python3"
  },
  "language_info": {
   "codemirror_mode": {
    "name": "ipython",
    "version": 3
   },
   "file_extension": ".py",
   "mimetype": "text/x-python",
   "name": "python",
   "nbconvert_exporter": "python",
   "pygments_lexer": "ipython3",
   "version": "3.9.16"
  }
 },
 "nbformat": 4,
 "nbformat_minor": 5
}
